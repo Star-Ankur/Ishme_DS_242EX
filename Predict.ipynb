{
  "nbformat": 4,
  "nbformat_minor": 0,
  "metadata": {
    "colab": {
      "provenance": [],
      "include_colab_link": true
    },
    "kernelspec": {
      "name": "python3",
      "display_name": "Python 3"
    },
    "language_info": {
      "name": "python"
    },
    "accelerator": "GPU",
    "gpuClass": "standard"
  },
  "cells": [
    {
      "cell_type": "markdown",
      "metadata": {
        "id": "view-in-github",
        "colab_type": "text"
      },
      "source": [
        "<a href=\"https://colab.research.google.com/github/Ishmeet7/Ishme_DS_242EX/blob/main/Predict.ipynb\" target=\"_parent\"><img src=\"https://colab.research.google.com/assets/colab-badge.svg\" alt=\"Open In Colab\"/></a>"
      ]
    },
    {
      "cell_type": "markdown",
      "source": [
        "# Installing and Importing packages"
      ],
      "metadata": {
        "id": "r-Oi-plL8Y1B"
      }
    },
    {
      "cell_type": "code",
      "execution_count": null,
      "metadata": {
        "id": "OicdY7e2XUA5"
      },
      "outputs": [],
      "source": [
        "import pandas as pd #importing libraries\n",
        "import numpy as np\n",
        "import matplotlib.pyplot as plt\n",
        "from numpy import radians, cos, sin, arcsin, sqrt\n",
        "from sklearn.linear_model import LinearRegression\n",
        "from sklearn.preprocessing import PolynomialFeatures\n",
        "from sklearn.ensemble import RandomForestRegressor\n",
        "from sklearn.metrics import mean_absolute_error\n",
        "from sklearn.metrics import mean_squared_error as mse\n",
        "from sklearn.model_selection import train_test_split\n",
        "import seaborn as sns\n",
        "from scipy.interpolate import griddata"
      ]
    },
    {
      "cell_type": "code",
      "source": [
        "from google.colab import drive   #mount drive\n",
        "drive.mount('/content/drive')"
      ],
      "metadata": {
        "id": "qC4Q5mgWYUeF",
        "colab": {
          "base_uri": "https://localhost:8080/"
        },
        "outputId": "b36e0a58-f8de-4394-9113-ba23211c29c3"
      },
      "execution_count": null,
      "outputs": [
        {
          "output_type": "stream",
          "name": "stdout",
          "text": [
            "Mounted at /content/drive\n"
          ]
        }
      ]
    },
    {
      "cell_type": "markdown",
      "source": [
        "# Loading data"
      ],
      "metadata": {
        "id": "HN2narI9_1Pd"
      }
    },
    {
      "cell_type": "code",
      "source": [
        "df = pd.read_parquet('/content/drive/MyDrive/Data/BMTC.parquet.gzip', engine='pyarrow') # This command loads BMTC data into a dataframe. \n",
        "                                                                      # In case of error, install pyarrow using: \n",
        "                                                                      # pip install pyarrow\n",
        "dfInput = pd.read_csv('/content/drive/MyDrive/Data/Input.csv')\n",
        "dfGroundTruth = pd.read_csv('/content/drive/MyDrive/Data/GroundTruth.csv')"
      ],
      "metadata": {
        "id": "q55fwfyJYZUB"
      },
      "execution_count": null,
      "outputs": []
    },
    {
      "cell_type": "code",
      "source": [
        "df.describe()"
      ],
      "metadata": {
        "id": "0PHJAC_s2JVb",
        "colab": {
          "base_uri": "https://localhost:8080/",
          "height": 300
        },
        "outputId": "ce25cc2f-f3bf-4000-c095-9dd981045f54"
      },
      "execution_count": null,
      "outputs": [
        {
          "output_type": "execute_result",
          "data": {
            "text/plain": [
              "              BusID      Latitude     Longitude         Speed\n",
              "count  6.014946e+06  6.014946e+06  6.014946e+06  6.014946e+06\n",
              "mean   1.504227e+08  1.296631e+01  7.760581e+01  1.110418e+01\n",
              "std    2.803769e+05  6.350863e-02  7.185203e-02  1.397228e+01\n",
              "min    1.502121e+08  1.279440e+01  7.741818e+01  0.000000e+00\n",
              "25%    1.502201e+08  1.292179e+01  7.756099e+01  0.000000e+00\n",
              "50%    1.502219e+08  1.296695e+01  7.759363e+01  5.000000e+00\n",
              "75%    1.508109e+08  1.300248e+01  7.765333e+01  2.000000e+01\n",
              "max    1.508134e+08  1.315513e+01  7.778835e+01  1.200000e+02"
            ],
            "text/html": [
              "\n",
              "  <div id=\"df-d598e8ae-f09d-47ba-9760-23e36af8bb11\">\n",
              "    <div class=\"colab-df-container\">\n",
              "      <div>\n",
              "<style scoped>\n",
              "    .dataframe tbody tr th:only-of-type {\n",
              "        vertical-align: middle;\n",
              "    }\n",
              "\n",
              "    .dataframe tbody tr th {\n",
              "        vertical-align: top;\n",
              "    }\n",
              "\n",
              "    .dataframe thead th {\n",
              "        text-align: right;\n",
              "    }\n",
              "</style>\n",
              "<table border=\"1\" class=\"dataframe\">\n",
              "  <thead>\n",
              "    <tr style=\"text-align: right;\">\n",
              "      <th></th>\n",
              "      <th>BusID</th>\n",
              "      <th>Latitude</th>\n",
              "      <th>Longitude</th>\n",
              "      <th>Speed</th>\n",
              "    </tr>\n",
              "  </thead>\n",
              "  <tbody>\n",
              "    <tr>\n",
              "      <th>count</th>\n",
              "      <td>6.014946e+06</td>\n",
              "      <td>6.014946e+06</td>\n",
              "      <td>6.014946e+06</td>\n",
              "      <td>6.014946e+06</td>\n",
              "    </tr>\n",
              "    <tr>\n",
              "      <th>mean</th>\n",
              "      <td>1.504227e+08</td>\n",
              "      <td>1.296631e+01</td>\n",
              "      <td>7.760581e+01</td>\n",
              "      <td>1.110418e+01</td>\n",
              "    </tr>\n",
              "    <tr>\n",
              "      <th>std</th>\n",
              "      <td>2.803769e+05</td>\n",
              "      <td>6.350863e-02</td>\n",
              "      <td>7.185203e-02</td>\n",
              "      <td>1.397228e+01</td>\n",
              "    </tr>\n",
              "    <tr>\n",
              "      <th>min</th>\n",
              "      <td>1.502121e+08</td>\n",
              "      <td>1.279440e+01</td>\n",
              "      <td>7.741818e+01</td>\n",
              "      <td>0.000000e+00</td>\n",
              "    </tr>\n",
              "    <tr>\n",
              "      <th>25%</th>\n",
              "      <td>1.502201e+08</td>\n",
              "      <td>1.292179e+01</td>\n",
              "      <td>7.756099e+01</td>\n",
              "      <td>0.000000e+00</td>\n",
              "    </tr>\n",
              "    <tr>\n",
              "      <th>50%</th>\n",
              "      <td>1.502219e+08</td>\n",
              "      <td>1.296695e+01</td>\n",
              "      <td>7.759363e+01</td>\n",
              "      <td>5.000000e+00</td>\n",
              "    </tr>\n",
              "    <tr>\n",
              "      <th>75%</th>\n",
              "      <td>1.508109e+08</td>\n",
              "      <td>1.300248e+01</td>\n",
              "      <td>7.765333e+01</td>\n",
              "      <td>2.000000e+01</td>\n",
              "    </tr>\n",
              "    <tr>\n",
              "      <th>max</th>\n",
              "      <td>1.508134e+08</td>\n",
              "      <td>1.315513e+01</td>\n",
              "      <td>7.778835e+01</td>\n",
              "      <td>1.200000e+02</td>\n",
              "    </tr>\n",
              "  </tbody>\n",
              "</table>\n",
              "</div>\n",
              "      <button class=\"colab-df-convert\" onclick=\"convertToInteractive('df-d598e8ae-f09d-47ba-9760-23e36af8bb11')\"\n",
              "              title=\"Convert this dataframe to an interactive table.\"\n",
              "              style=\"display:none;\">\n",
              "        \n",
              "  <svg xmlns=\"http://www.w3.org/2000/svg\" height=\"24px\"viewBox=\"0 0 24 24\"\n",
              "       width=\"24px\">\n",
              "    <path d=\"M0 0h24v24H0V0z\" fill=\"none\"/>\n",
              "    <path d=\"M18.56 5.44l.94 2.06.94-2.06 2.06-.94-2.06-.94-.94-2.06-.94 2.06-2.06.94zm-11 1L8.5 8.5l.94-2.06 2.06-.94-2.06-.94L8.5 2.5l-.94 2.06-2.06.94zm10 10l.94 2.06.94-2.06 2.06-.94-2.06-.94-.94-2.06-.94 2.06-2.06.94z\"/><path d=\"M17.41 7.96l-1.37-1.37c-.4-.4-.92-.59-1.43-.59-.52 0-1.04.2-1.43.59L10.3 9.45l-7.72 7.72c-.78.78-.78 2.05 0 2.83L4 21.41c.39.39.9.59 1.41.59.51 0 1.02-.2 1.41-.59l7.78-7.78 2.81-2.81c.8-.78.8-2.07 0-2.86zM5.41 20L4 18.59l7.72-7.72 1.47 1.35L5.41 20z\"/>\n",
              "  </svg>\n",
              "      </button>\n",
              "      \n",
              "  <style>\n",
              "    .colab-df-container {\n",
              "      display:flex;\n",
              "      flex-wrap:wrap;\n",
              "      gap: 12px;\n",
              "    }\n",
              "\n",
              "    .colab-df-convert {\n",
              "      background-color: #E8F0FE;\n",
              "      border: none;\n",
              "      border-radius: 50%;\n",
              "      cursor: pointer;\n",
              "      display: none;\n",
              "      fill: #1967D2;\n",
              "      height: 32px;\n",
              "      padding: 0 0 0 0;\n",
              "      width: 32px;\n",
              "    }\n",
              "\n",
              "    .colab-df-convert:hover {\n",
              "      background-color: #E2EBFA;\n",
              "      box-shadow: 0px 1px 2px rgba(60, 64, 67, 0.3), 0px 1px 3px 1px rgba(60, 64, 67, 0.15);\n",
              "      fill: #174EA6;\n",
              "    }\n",
              "\n",
              "    [theme=dark] .colab-df-convert {\n",
              "      background-color: #3B4455;\n",
              "      fill: #D2E3FC;\n",
              "    }\n",
              "\n",
              "    [theme=dark] .colab-df-convert:hover {\n",
              "      background-color: #434B5C;\n",
              "      box-shadow: 0px 1px 3px 1px rgba(0, 0, 0, 0.15);\n",
              "      filter: drop-shadow(0px 1px 2px rgba(0, 0, 0, 0.3));\n",
              "      fill: #FFFFFF;\n",
              "    }\n",
              "  </style>\n",
              "\n",
              "      <script>\n",
              "        const buttonEl =\n",
              "          document.querySelector('#df-d598e8ae-f09d-47ba-9760-23e36af8bb11 button.colab-df-convert');\n",
              "        buttonEl.style.display =\n",
              "          google.colab.kernel.accessAllowed ? 'block' : 'none';\n",
              "\n",
              "        async function convertToInteractive(key) {\n",
              "          const element = document.querySelector('#df-d598e8ae-f09d-47ba-9760-23e36af8bb11');\n",
              "          const dataTable =\n",
              "            await google.colab.kernel.invokeFunction('convertToInteractive',\n",
              "                                                     [key], {});\n",
              "          if (!dataTable) return;\n",
              "\n",
              "          const docLinkHtml = 'Like what you see? Visit the ' +\n",
              "            '<a target=\"_blank\" href=https://colab.research.google.com/notebooks/data_table.ipynb>data table notebook</a>'\n",
              "            + ' to learn more about interactive tables.';\n",
              "          element.innerHTML = '';\n",
              "          dataTable['output_type'] = 'display_data';\n",
              "          await google.colab.output.renderOutput(dataTable, element);\n",
              "          const docLink = document.createElement('div');\n",
              "          docLink.innerHTML = docLinkHtml;\n",
              "          element.appendChild(docLink);\n",
              "        }\n",
              "      </script>\n",
              "    </div>\n",
              "  </div>\n",
              "  "
            ]
          },
          "metadata": {},
          "execution_count": 4
        }
      ]
    },
    {
      "cell_type": "code",
      "source": [
        "#g=df.groupby('BusID', as_index=False)[\"Timestamp\"].sort_values()\n",
        "\n",
        "#g[\"Timestamp\"], format=\"%Y-%m-%d %H:%M:%S\").sort_values()"
      ],
      "metadata": {
        "id": "meXUeoYjk65_"
      },
      "execution_count": null,
      "outputs": []
    },
    {
      "cell_type": "markdown",
      "source": [
        "# Exploratory Data Analysis"
      ],
      "metadata": {
        "id": "fhPgwvyV_7Qc"
      }
    },
    {
      "cell_type": "code",
      "source": [
        "g1=df.groupby('BusID') #grouping data using BusID\n",
        "unique=df.BusID.unique()"
      ],
      "metadata": {
        "id": "yj96k9CKY7Az"
      },
      "execution_count": null,
      "outputs": []
    },
    {
      "cell_type": "code",
      "source": [
        "def density_plot(df):\n",
        "    df= df.round({'Latitude': 3,'Longitude': 3})\n",
        "    data = df.groupby(['Latitude','Longitude'], as_index=False).size()\n",
        "    data = data[data['size']<7000]  # change this value to remove lesser outliers\n",
        "    grid_x, grid_y = np.mgrid[12.78:13.16:200j, 77.40:77.80:200j]\n",
        "    grid_z = griddata(data[['Latitude','Longitude']], data['size'], (grid_x, grid_y), method='nearest')\n",
        "    plt.figure(figsize=(10,7))\n",
        "    plt.contourf(grid_x, grid_y, grid_z, 20, cmap='plasma')\n",
        "    plt.colorbar();\n",
        "    plt.grid(b = True, alpha= 0.5)\n"
      ],
      "metadata": {
        "id": "kNdAOiczySbq"
      },
      "execution_count": null,
      "outputs": []
    },
    {
      "cell_type": "code",
      "source": [
        "density_plot(df)"
      ],
      "metadata": {
        "colab": {
          "base_uri": "https://localhost:8080/",
          "height": 432
        },
        "id": "Sju2zDxG00Fk",
        "outputId": "ab496ca0-d248-4bd8-e562-913f6520d0c9"
      },
      "execution_count": null,
      "outputs": [
        {
          "output_type": "display_data",
          "data": {
            "text/plain": [
              "<Figure size 720x504 with 2 Axes>"
            ],
            "image/png": "[encoded data removed]"
          },
          "metadata": {
            "needs_background": "light"
          }
        }
      ]
    },
    {
      "cell_type": "markdown",
      "source": [
        "# Preprocessing"
      ],
      "metadata": {
        "id": "B9J5M4xI-EiH"
      }
    },
    {
      "cell_type": "code",
      "source": [
        "def pre_processing(df):\n",
        "  d1 = df.drop_duplicates(subset=['Latitude','Longitude','Speed'],keep=(\"first\"),inplace=False) #If the consecutive rows have same latitude,longitude and speed values keeping only first and last row\n",
        "  d2 = df.drop_duplicates(subset=['Latitude','Longitude','Speed'],keep=(\"last\"),inplace=False)\n",
        "  d3 = pd.concat([d1,d2]).drop_duplicates()\n",
        "  return d3"
      ],
      "metadata": {
        "id": "r90ltSM0Zgds"
      },
      "execution_count": null,
      "outputs": []
    },
    {
      "cell_type": "code",
      "source": [
        "pre_processing(df)"
      ],
      "metadata": {
        "id": "KD3WJEud5nbG",
        "colab": {
          "base_uri": "https://localhost:8080/",
          "height": 423
        },
        "outputId": "7e426af3-12a6-44ce-ca93-7b45c566ae2c"
      },
      "execution_count": null,
      "outputs": [
        {
          "output_type": "execute_result",
          "data": {
            "text/plain": [
              "             BusID   Latitude  Longitude  Speed           Timestamp\n",
              "0        150212121  13.074558  77.445549    0.0 2019-08-01 07:00:02\n",
              "152      150212121  13.074558  77.445549    9.0 2019-08-01 07:25:16\n",
              "153      150212121  13.074113  77.445282   21.0 2019-08-01 07:25:26\n",
              "154      150212121  13.074060  77.445267    0.0 2019-08-01 07:25:36\n",
              "173      150212121  13.074060  77.445267   13.0 2019-08-01 07:28:45\n",
              "...            ...        ...        ...    ...                 ...\n",
              "6014786  150813395  13.099629  77.596695    0.0 2019-08-01 18:33:36\n",
              "6014803  150813395  13.099418  77.596924    0.0 2019-08-01 18:36:26\n",
              "6014823  150813395  13.099084  77.597076    0.0 2019-08-01 18:39:44\n",
              "6014852  150813395  13.095264  77.594536    0.0 2019-08-01 18:44:33\n",
              "6014856  150813395  13.095257  77.594521    0.0 2019-08-01 18:45:13\n",
              "\n",
              "[4434308 rows x 5 columns]"
            ],
            "text/html": [
              "\n",
              "  <div id=\"df-9cc3ae27-a3bc-41d9-859a-991b57199004\">\n",
              "    <div class=\"colab-df-container\">\n",
              "      <div>\n",
              "<style scoped>\n",
              "    .dataframe tbody tr th:only-of-type {\n",
              "        vertical-align: middle;\n",
              "    }\n",
              "\n",
              "    .dataframe tbody tr th {\n",
              "        vertical-align: top;\n",
              "    }\n",
              "\n",
              "    .dataframe thead th {\n",
              "        text-align: right;\n",
              "    }\n",
              "</style>\n",
              "<table border=\"1\" class=\"dataframe\">\n",
              "  <thead>\n",
              "    <tr style=\"text-align: right;\">\n",
              "      <th></th>\n",
              "      <th>BusID</th>\n",
              "      <th>Latitude</th>\n",
              "      <th>Longitude</th>\n",
              "      <th>Speed</th>\n",
              "      <th>Timestamp</th>\n",
              "    </tr>\n",
              "  </thead>\n",
              "  <tbody>\n",
              "    <tr>\n",
              "      <th>0</th>\n",
              "      <td>150212121</td>\n",
              "      <td>13.074558</td>\n",
              "      <td>77.445549</td>\n",
              "      <td>0.0</td>\n",
              "      <td>2019-08-01 07:00:02</td>\n",
              "    </tr>\n",
              "    <tr>\n",
              "      <th>152</th>\n",
              "      <td>150212121</td>\n",
              "      <td>13.074558</td>\n",
              "      <td>77.445549</td>\n",
              "      <td>9.0</td>\n",
              "      <td>2019-08-01 07:25:16</td>\n",
              "    </tr>\n",
              "    <tr>\n",
              "      <th>153</th>\n",
              "      <td>150212121</td>\n",
              "      <td>13.074113</td>\n",
              "      <td>77.445282</td>\n",
              "      <td>21.0</td>\n",
              "      <td>2019-08-01 07:25:26</td>\n",
              "    </tr>\n",
              "    <tr>\n",
              "      <th>154</th>\n",
              "      <td>150212121</td>\n",
              "      <td>13.074060</td>\n",
              "      <td>77.445267</td>\n",
              "      <td>0.0</td>\n",
              "      <td>2019-08-01 07:25:36</td>\n",
              "    </tr>\n",
              "    <tr>\n",
              "      <th>173</th>\n",
              "      <td>150212121</td>\n",
              "      <td>13.074060</td>\n",
              "      <td>77.445267</td>\n",
              "      <td>13.0</td>\n",
              "      <td>2019-08-01 07:28:45</td>\n",
              "    </tr>\n",
              "    <tr>\n",
              "      <th>...</th>\n",
              "      <td>...</td>\n",
              "      <td>...</td>\n",
              "      <td>...</td>\n",
              "      <td>...</td>\n",
              "      <td>...</td>\n",
              "    </tr>\n",
              "    <tr>\n",
              "      <th>6014786</th>\n",
              "      <td>150813395</td>\n",
              "      <td>13.099629</td>\n",
              "      <td>77.596695</td>\n",
              "      <td>0.0</td>\n",
              "      <td>2019-08-01 18:33:36</td>\n",
              "    </tr>\n",
              "    <tr>\n",
              "      <th>6014803</th>\n",
              "      <td>150813395</td>\n",
              "      <td>13.099418</td>\n",
              "      <td>77.596924</td>\n",
              "      <td>0.0</td>\n",
              "      <td>2019-08-01 18:36:26</td>\n",
              "    </tr>\n",
              "    <tr>\n",
              "      <th>6014823</th>\n",
              "      <td>150813395</td>\n",
              "      <td>13.099084</td>\n",
              "      <td>77.597076</td>\n",
              "      <td>0.0</td>\n",
              "      <td>2019-08-01 18:39:44</td>\n",
              "    </tr>\n",
              "    <tr>\n",
              "      <th>6014852</th>\n",
              "      <td>150813395</td>\n",
              "      <td>13.095264</td>\n",
              "      <td>77.594536</td>\n",
              "      <td>0.0</td>\n",
              "      <td>2019-08-01 18:44:33</td>\n",
              "    </tr>\n",
              "    <tr>\n",
              "      <th>6014856</th>\n",
              "      <td>150813395</td>\n",
              "      <td>13.095257</td>\n",
              "      <td>77.594521</td>\n",
              "      <td>0.0</td>\n",
              "      <td>2019-08-01 18:45:13</td>\n",
              "    </tr>\n",
              "  </tbody>\n",
              "</table>\n",
              "<p>4434308 rows × 5 columns</p>\n",
              "</div>\n",
              "      <button class=\"colab-df-convert\" onclick=\"convertToInteractive('df-9cc3ae27-a3bc-41d9-859a-991b57199004')\"\n",
              "              title=\"Convert this dataframe to an interactive table.\"\n",
              "              style=\"display:none;\">\n",
              "        \n",
              "  <svg xmlns=\"http://www.w3.org/2000/svg\" height=\"24px\"viewBox=\"0 0 24 24\"\n",
              "       width=\"24px\">\n",
              "    <path d=\"M0 0h24v24H0V0z\" fill=\"none\"/>\n",
              "    <path d=\"M18.56 5.44l.94 2.06.94-2.06 2.06-.94-2.06-.94-.94-2.06-.94 2.06-2.06.94zm-11 1L8.5 8.5l.94-2.06 2.06-.94-2.06-.94L8.5 2.5l-.94 2.06-2.06.94zm10 10l.94 2.06.94-2.06 2.06-.94-2.06-.94-.94-2.06-.94 2.06-2.06.94z\"/><path d=\"M17.41 7.96l-1.37-1.37c-.4-.4-.92-.59-1.43-.59-.52 0-1.04.2-1.43.59L10.3 9.45l-7.72 7.72c-.78.78-.78 2.05 0 2.83L4 21.41c.39.39.9.59 1.41.59.51 0 1.02-.2 1.41-.59l7.78-7.78 2.81-2.81c.8-.78.8-2.07 0-2.86zM5.41 20L4 18.59l7.72-7.72 1.47 1.35L5.41 20z\"/>\n",
              "  </svg>\n",
              "      </button>\n",
              "      \n",
              "  <style>\n",
              "    .colab-df-container {\n",
              "      display:flex;\n",
              "      flex-wrap:wrap;\n",
              "      gap: 12px;\n",
              "    }\n",
              "\n",
              "    .colab-df-convert {\n",
              "      background-color: #E8F0FE;\n",
              "      border: none;\n",
              "      border-radius: 50%;\n",
              "      cursor: pointer;\n",
              "      display: none;\n",
              "      fill: #1967D2;\n",
              "      height: 32px;\n",
              "      padding: 0 0 0 0;\n",
              "      width: 32px;\n",
              "    }\n",
              "\n",
              "    .colab-df-convert:hover {\n",
              "      background-color: #E2EBFA;\n",
              "      box-shadow: 0px 1px 2px rgba(60, 64, 67, 0.3), 0px 1px 3px 1px rgba(60, 64, 67, 0.15);\n",
              "      fill: #174EA6;\n",
              "    }\n",
              "\n",
              "    [theme=dark] .colab-df-convert {\n",
              "      background-color: #3B4455;\n",
              "      fill: #D2E3FC;\n",
              "    }\n",
              "\n",
              "    [theme=dark] .colab-df-convert:hover {\n",
              "      background-color: #434B5C;\n",
              "      box-shadow: 0px 1px 3px 1px rgba(0, 0, 0, 0.15);\n",
              "      filter: drop-shadow(0px 1px 2px rgba(0, 0, 0, 0.3));\n",
              "      fill: #FFFFFF;\n",
              "    }\n",
              "  </style>\n",
              "\n",
              "      <script>\n",
              "        const buttonEl =\n",
              "          document.querySelector('#df-9cc3ae27-a3bc-41d9-859a-991b57199004 button.colab-df-convert');\n",
              "        buttonEl.style.display =\n",
              "          google.colab.kernel.accessAllowed ? 'block' : 'none';\n",
              "\n",
              "        async function convertToInteractive(key) {\n",
              "          const element = document.querySelector('#df-9cc3ae27-a3bc-41d9-859a-991b57199004');\n",
              "          const dataTable =\n",
              "            await google.colab.kernel.invokeFunction('convertToInteractive',\n",
              "                                                     [key], {});\n",
              "          if (!dataTable) return;\n",
              "\n",
              "          const docLinkHtml = 'Like what you see? Visit the ' +\n",
              "            '<a target=\"_blank\" href=https://colab.research.google.com/notebooks/data_table.ipynb>data table notebook</a>'\n",
              "            + ' to learn more about interactive tables.';\n",
              "          element.innerHTML = '';\n",
              "          dataTable['output_type'] = 'display_data';\n",
              "          await google.colab.output.renderOutput(dataTable, element);\n",
              "          const docLink = document.createElement('div');\n",
              "          docLink.innerHTML = docLinkHtml;\n",
              "          element.appendChild(docLink);\n",
              "        }\n",
              "      </script>\n",
              "    </div>\n",
              "  </div>\n",
              "  "
            ]
          },
          "metadata": {},
          "execution_count": 13
        }
      ]
    },
    {
      "cell_type": "markdown",
      "source": [
        "## Creating a Subset of Data Based on similar route"
      ],
      "metadata": {
        "id": "Pis5iaEMUqmq"
      }
    },
    {
      "cell_type": "code",
      "source": [
        "g = df.groupby('BusID')\n",
        "\n",
        "bus1 = g.get_group(150218010)\n",
        "bus2 = g.get_group(150813389)\n",
        "\n",
        "bus1.reset_index(inplace = True, drop = True)\n",
        "bus2.reset_index(inplace = True, drop = True)\n",
        "\n",
        "buses = pd.concat([bus1,bus2],axis=0)\n",
        "\n",
        "lat = np.array(buses['Latitude']).reshape(-1, 1)\n",
        "poly_feature = PolynomialFeatures(4)#degree is 4\n",
        "x_poly = poly_feature.fit_transform(lat)#fit data and then transform\n",
        "reg = LinearRegression()\n",
        "reg.fit(x_poly, buses['Longitude'])#fit linear model\n",
        "y_predict = reg.predict(x_poly)#prediction using model\n",
        "rmse = (mse(buses['Longitude'], y_predict)) ** 0.5  #rmse calculation\n",
        "\n",
        "count = 0\n",
        "cluster = pd.DataFrame()\n",
        "for i in g.size().index:\n",
        "    bus = g.get_group(i)\n",
        "    bus.reset_index(inplace = True, drop = True)\n",
        "    lat = np.array(bus['Latitude']).reshape(-1, 1)\n",
        "    x_poly = poly_feature.fit_transform(lat)\n",
        "    y_predict = reg.predict(x_poly)#prediction using model\n",
        "    rmse = (mse(bus['Longitude'], y_predict)) ** 0.5  #rmse calculation\n",
        "    if rmse <= 0.03:\n",
        "        count+=1\n",
        "        cluster = pd.concat([cluster,bus], axis=0)\n",
        "        \n",
        "print(count)\n",
        "\n",
        "\n"
      ],
      "metadata": {
        "id": "LkDkmjS9U0eD",
        "colab": {
          "base_uri": "https://localhost:8080/"
        },
        "outputId": "d87eefdc-57d8-42d9-cad4-b612a579ca96"
      },
      "execution_count": null,
      "outputs": [
        {
          "output_type": "stream",
          "name": "stdout",
          "text": [
            "105\n"
          ]
        }
      ]
    },
    {
      "cell_type": "code",
      "source": [
        "plt.figure(figsize=(5,5))\n",
        "plt.scatter(cluster['Latitude'], cluster['Longitude'], color='xkcd:turquoise', alpha=0.4, s=1)\n",
        "xp = np.linspace(cluster['Latitude'].min(), cluster['Latitude'].max(), 1000).reshape(-1, 1)#2923 is len of train data\n",
        "x_poly = poly_feature.fit_transform(xp)\n",
        "y_predict = reg.predict(x_poly)\n",
        "plt.plot(xp,y_predict,'k--')\n",
        "plt.xlabel('Latitudes')\n",
        "plt.ylabel('Longitudes')\n",
        "cluster=cluster.drop(cluster.groupby(\"BusID\").head(1).index, axis=0)"
      ],
      "metadata": {
        "id": "U7VI993Ld1mo",
        "colab": {
          "base_uri": "https://localhost:8080/",
          "height": 334
        },
        "outputId": "24a0f60c-f915-4327-a8b8-dd6defbe18fa"
      },
      "execution_count": null,
      "outputs": [
        {
          "output_type": "display_data",
          "data": {
            "text/plain": [
              "<Figure size 360x360 with 1 Axes>"
            ],
            "image/png": "[encoded data removed]"
          },
          "metadata": {
            "needs_background": "light"
          }
        }
      ]
    },
    {
      "cell_type": "code",
      "source": [
        "dfInput.columns"
      ],
      "metadata": {
        "id": "ZztUWZJYbjWo",
        "colab": {
          "base_uri": "https://localhost:8080/"
        },
        "outputId": "f3f8148d-14c6-4c5f-c6e2-91fe02835dae"
      },
      "execution_count": null,
      "outputs": [
        {
          "output_type": "execute_result",
          "data": {
            "text/plain": [
              "Index(['Unnamed: 0', 'Source_Lat', 'Source_Long', 'Dest_Lat', 'Dest_Long'], dtype='object')"
            ]
          },
          "metadata": {},
          "execution_count": 16
        }
      ]
    },
    {
      "cell_type": "markdown",
      "source": [
        "# Feature Extraction"
      ],
      "metadata": {
        "id": "EBx7ZZzW-P-O"
      }
    },
    {
      "cell_type": "code",
      "source": [
        "#calculating Haversine distance between two points on earth\n",
        "def haversine(lon1, lat1, lon2, lat2):\n",
        "    \"\"\"\n",
        "    Calculate the great circle distance between two points \n",
        "    on the earth (specified in decimal degrees)\n",
        "    \"\"\"\n",
        "\n",
        "    #Convert decimal degrees to Radians:\n",
        "    lon1 = np.radians(lon1.values)\n",
        "    lat1 = np.radians(lat1.values)\n",
        "    lon2 = np.radians(lon2.values)\n",
        "    lat2 = np.radians(lat2.values)\n",
        "\n",
        "    #Implementing Haversine Formula: \n",
        "    dlon = np.subtract(lon2, lon1)\n",
        "    dlat = np.subtract(lat2, lat1)\n",
        "\n",
        "    a = np.add(np.power(np.sin(np.divide(dlat, 2)), 2), np.multiply(np.cos(lat1),np.multiply(np.cos(lat2), np.power(np.sin(np.divide(dlon, 2)), 2))))  \n",
        "                          \n",
        "    c = np.multiply(2, np.arcsin(np.sqrt(a)))\n",
        "    r = 6371\n",
        "    \n",
        "    return c*r"
      ],
      "metadata": {
        "id": "S5uGEqw_ZoEw"
      },
      "execution_count": null,
      "outputs": []
    },
    {
      "cell_type": "code",
      "source": [
        "d3 = cluster\n",
        "d4=d3.loc[:,[\"Latitude\",'Longitude']]\n",
        "d7=d3.shift(1)             #creating a lag of p=1\n",
        "d5=d4.shift(periods=1, freq=None, axis=0)\n",
        "\n",
        "d5.rename(columns = {'Latitude':'Source_Lat', 'Longitude':'Source_Long'}, inplace = True) #concatenating shifted dataframe to original dataframe and renaming columns\n",
        "d4.rename(columns = {'Latitude':'Dest_Lat', 'Longitude':'Dest_Long'}, inplace = True)\n",
        "d6=pd.concat([d5,d4], axis=1)\n",
        "\n",
        "distance=haversine(d4['Dest_Long'],d4['Dest_Lat'],d5['Source_Long'],d5['Source_Lat'])\n",
        "\n",
        "time=d3['Timestamp']-d7['Timestamp'] #calculating time required to travel distance between two consecutive rows of latitude and logitude\n",
        "\n",
        "time=time.apply(lambda x: x.seconds/60)\n",
        "\n",
        "d6['Distance']=distance   #adding new columns to dataframe\n",
        "d6['Duration']=time\n"
      ],
      "metadata": {
        "id": "CZdW1ourypyV"
      },
      "execution_count": null,
      "outputs": []
    },
    {
      "cell_type": "code",
      "source": [
        "d6.columns"
      ],
      "metadata": {
        "id": "itB7VvyuatlB",
        "colab": {
          "base_uri": "https://localhost:8080/"
        },
        "outputId": "e6f192f7-0924-40c5-9eed-c6d5156ec8a2"
      },
      "execution_count": null,
      "outputs": [
        {
          "output_type": "execute_result",
          "data": {
            "text/plain": [
              "Index(['Source_Lat', 'Source_Long', 'Dest_Lat', 'Dest_Long', 'Distance',\n",
              "       'Duration'],\n",
              "      dtype='object')"
            ]
          },
          "metadata": {},
          "execution_count": 20
        }
      ]
    },
    {
      "cell_type": "code",
      "source": [
        "d6.describe()"
      ],
      "metadata": {
        "id": "1JBelFB-2vSZ",
        "colab": {
          "base_uri": "https://localhost:8080/",
          "height": 300
        },
        "outputId": "e7670297-b8e0-403d-e5e1-7fe83db9be17"
      },
      "execution_count": null,
      "outputs": [
        {
          "output_type": "execute_result",
          "data": {
            "text/plain": [
              "          Source_Lat    Source_Long       Dest_Lat      Dest_Long  \\\n",
              "count  329925.000000  329925.000000  329926.000000  329926.000000   \n",
              "mean       12.975449      77.656285      12.975448      77.656285   \n",
              "std         0.047119       0.041181       0.047119       0.041182   \n",
              "min        12.893810      77.518929      12.893810      77.518929   \n",
              "25%        12.924348      77.624619      12.924348      77.624619   \n",
              "50%        12.977932      77.662460      12.977932      77.662460   \n",
              "75%        13.012313      77.689400      13.012313      77.689400   \n",
              "max        13.086927      77.761818      13.086927      77.761818   \n",
              "\n",
              "            Distance       Duration  \n",
              "count  329925.000000  329925.000000  \n",
              "mean        0.040481       0.456103  \n",
              "std         0.245422      13.394551  \n",
              "min         0.000000       0.000000  \n",
              "25%         0.000000       0.166667  \n",
              "50%         0.004403       0.166667  \n",
              "75%         0.055452       0.166667  \n",
              "max        23.399302    1203.916667  "
            ],
            "text/html": [
              "\n",
              "  <div id=\"df-78863bbd-c1d5-49fd-b4ae-9995d82ed10a\">\n",
              "    <div class=\"colab-df-container\">\n",
              "      <div>\n",
              "<style scoped>\n",
              "    .dataframe tbody tr th:only-of-type {\n",
              "        vertical-align: middle;\n",
              "    }\n",
              "\n",
              "    .dataframe tbody tr th {\n",
              "        vertical-align: top;\n",
              "    }\n",
              "\n",
              "    .dataframe thead th {\n",
              "        text-align: right;\n",
              "    }\n",
              "</style>\n",
              "<table border=\"1\" class=\"dataframe\">\n",
              "  <thead>\n",
              "    <tr style=\"text-align: right;\">\n",
              "      <th></th>\n",
              "      <th>Source_Lat</th>\n",
              "      <th>Source_Long</th>\n",
              "      <th>Dest_Lat</th>\n",
              "      <th>Dest_Long</th>\n",
              "      <th>Distance</th>\n",
              "      <th>Duration</th>\n",
              "    </tr>\n",
              "  </thead>\n",
              "  <tbody>\n",
              "    <tr>\n",
              "      <th>count</th>\n",
              "      <td>329925.000000</td>\n",
              "      <td>329925.000000</td>\n",
              "      <td>329926.000000</td>\n",
              "      <td>329926.000000</td>\n",
              "      <td>329925.000000</td>\n",
              "      <td>329925.000000</td>\n",
              "    </tr>\n",
              "    <tr>\n",
              "      <th>mean</th>\n",
              "      <td>12.975449</td>\n",
              "      <td>77.656285</td>\n",
              "      <td>12.975448</td>\n",
              "      <td>77.656285</td>\n",
              "      <td>0.040481</td>\n",
              "      <td>0.456103</td>\n",
              "    </tr>\n",
              "    <tr>\n",
              "      <th>std</th>\n",
              "      <td>0.047119</td>\n",
              "      <td>0.041181</td>\n",
              "      <td>0.047119</td>\n",
              "      <td>0.041182</td>\n",
              "      <td>0.245422</td>\n",
              "      <td>13.394551</td>\n",
              "    </tr>\n",
              "    <tr>\n",
              "      <th>min</th>\n",
              "      <td>12.893810</td>\n",
              "      <td>77.518929</td>\n",
              "      <td>12.893810</td>\n",
              "      <td>77.518929</td>\n",
              "      <td>0.000000</td>\n",
              "      <td>0.000000</td>\n",
              "    </tr>\n",
              "    <tr>\n",
              "      <th>25%</th>\n",
              "      <td>12.924348</td>\n",
              "      <td>77.624619</td>\n",
              "      <td>12.924348</td>\n",
              "      <td>77.624619</td>\n",
              "      <td>0.000000</td>\n",
              "      <td>0.166667</td>\n",
              "    </tr>\n",
              "    <tr>\n",
              "      <th>50%</th>\n",
              "      <td>12.977932</td>\n",
              "      <td>77.662460</td>\n",
              "      <td>12.977932</td>\n",
              "      <td>77.662460</td>\n",
              "      <td>0.004403</td>\n",
              "      <td>0.166667</td>\n",
              "    </tr>\n",
              "    <tr>\n",
              "      <th>75%</th>\n",
              "      <td>13.012313</td>\n",
              "      <td>77.689400</td>\n",
              "      <td>13.012313</td>\n",
              "      <td>77.689400</td>\n",
              "      <td>0.055452</td>\n",
              "      <td>0.166667</td>\n",
              "    </tr>\n",
              "    <tr>\n",
              "      <th>max</th>\n",
              "      <td>13.086927</td>\n",
              "      <td>77.761818</td>\n",
              "      <td>13.086927</td>\n",
              "      <td>77.761818</td>\n",
              "      <td>23.399302</td>\n",
              "      <td>1203.916667</td>\n",
              "    </tr>\n",
              "  </tbody>\n",
              "</table>\n",
              "</div>\n",
              "      <button class=\"colab-df-convert\" onclick=\"convertToInteractive('df-78863bbd-c1d5-49fd-b4ae-9995d82ed10a')\"\n",
              "              title=\"Convert this dataframe to an interactive table.\"\n",
              "              style=\"display:none;\">\n",
              "        \n",
              "  <svg xmlns=\"http://www.w3.org/2000/svg\" height=\"24px\"viewBox=\"0 0 24 24\"\n",
              "       width=\"24px\">\n",
              "    <path d=\"M0 0h24v24H0V0z\" fill=\"none\"/>\n",
              "    <path d=\"M18.56 5.44l.94 2.06.94-2.06 2.06-.94-2.06-.94-.94-2.06-.94 2.06-2.06.94zm-11 1L8.5 8.5l.94-2.06 2.06-.94-2.06-.94L8.5 2.5l-.94 2.06-2.06.94zm10 10l.94 2.06.94-2.06 2.06-.94-2.06-.94-.94-2.06-.94 2.06-2.06.94z\"/><path d=\"M17.41 7.96l-1.37-1.37c-.4-.4-.92-.59-1.43-.59-.52 0-1.04.2-1.43.59L10.3 9.45l-7.72 7.72c-.78.78-.78 2.05 0 2.83L4 21.41c.39.39.9.59 1.41.59.51 0 1.02-.2 1.41-.59l7.78-7.78 2.81-2.81c.8-.78.8-2.07 0-2.86zM5.41 20L4 18.59l7.72-7.72 1.47 1.35L5.41 20z\"/>\n",
              "  </svg>\n",
              "      </button>\n",
              "      \n",
              "  <style>\n",
              "    .colab-df-container {\n",
              "      display:flex;\n",
              "      flex-wrap:wrap;\n",
              "      gap: 12px;\n",
              "    }\n",
              "\n",
              "    .colab-df-convert {\n",
              "      background-color: #E8F0FE;\n",
              "      border: none;\n",
              "      border-radius: 50%;\n",
              "      cursor: pointer;\n",
              "      display: none;\n",
              "      fill: #1967D2;\n",
              "      height: 32px;\n",
              "      padding: 0 0 0 0;\n",
              "      width: 32px;\n",
              "    }\n",
              "\n",
              "    .colab-df-convert:hover {\n",
              "      background-color: #E2EBFA;\n",
              "      box-shadow: 0px 1px 2px rgba(60, 64, 67, 0.3), 0px 1px 3px 1px rgba(60, 64, 67, 0.15);\n",
              "      fill: #174EA6;\n",
              "    }\n",
              "\n",
              "    [theme=dark] .colab-df-convert {\n",
              "      background-color: #3B4455;\n",
              "      fill: #D2E3FC;\n",
              "    }\n",
              "\n",
              "    [theme=dark] .colab-df-convert:hover {\n",
              "      background-color: #434B5C;\n",
              "      box-shadow: 0px 1px 3px 1px rgba(0, 0, 0, 0.15);\n",
              "      filter: drop-shadow(0px 1px 2px rgba(0, 0, 0, 0.3));\n",
              "      fill: #FFFFFF;\n",
              "    }\n",
              "  </style>\n",
              "\n",
              "      <script>\n",
              "        const buttonEl =\n",
              "          document.querySelector('#df-78863bbd-c1d5-49fd-b4ae-9995d82ed10a button.colab-df-convert');\n",
              "        buttonEl.style.display =\n",
              "          google.colab.kernel.accessAllowed ? 'block' : 'none';\n",
              "\n",
              "        async function convertToInteractive(key) {\n",
              "          const element = document.querySelector('#df-78863bbd-c1d5-49fd-b4ae-9995d82ed10a');\n",
              "          const dataTable =\n",
              "            await google.colab.kernel.invokeFunction('convertToInteractive',\n",
              "                                                     [key], {});\n",
              "          if (!dataTable) return;\n",
              "\n",
              "          const docLinkHtml = 'Like what you see? Visit the ' +\n",
              "            '<a target=\"_blank\" href=https://colab.research.google.com/notebooks/data_table.ipynb>data table notebook</a>'\n",
              "            + ' to learn more about interactive tables.';\n",
              "          element.innerHTML = '';\n",
              "          dataTable['output_type'] = 'display_data';\n",
              "          await google.colab.output.renderOutput(dataTable, element);\n",
              "          const docLink = document.createElement('div');\n",
              "          docLink.innerHTML = docLinkHtml;\n",
              "          element.appendChild(docLink);\n",
              "        }\n",
              "      </script>\n",
              "    </div>\n",
              "  </div>\n",
              "  "
            ]
          },
          "metadata": {},
          "execution_count": 22
        }
      ]
    },
    {
      "cell_type": "code",
      "source": [
        "d6.head() #created dataframe"
      ],
      "metadata": {
        "id": "larLmW-rcGsN",
        "colab": {
          "base_uri": "https://localhost:8080/",
          "height": 206
        },
        "outputId": "38bc345a-7b4a-48dc-f8ba-13c18b2cb06d"
      },
      "execution_count": null,
      "outputs": [
        {
          "output_type": "execute_result",
          "data": {
            "text/plain": [
              "   Source_Lat  Source_Long   Dest_Lat  Dest_Long  Distance  Duration\n",
              "1         NaN          NaN  13.043061  77.610191       NaN       NaN\n",
              "2   13.043061    77.610191  13.042920  77.611275  0.118468  0.166667\n",
              "3   13.042920    77.611275  13.042670  77.612312  0.115723  0.166667\n",
              "4   13.042670    77.612312  13.042445  77.613235  0.103068  0.166667\n",
              "5   13.042445    77.613235  13.042300  77.613518  0.034638  0.166667"
            ],
            "text/html": [
              "\n",
              "  <div id=\"df-70e5f3fe-b93f-4a18-b294-20516cd651b6\">\n",
              "    <div class=\"colab-df-container\">\n",
              "      <div>\n",
              "<style scoped>\n",
              "    .dataframe tbody tr th:only-of-type {\n",
              "        vertical-align: middle;\n",
              "    }\n",
              "\n",
              "    .dataframe tbody tr th {\n",
              "        vertical-align: top;\n",
              "    }\n",
              "\n",
              "    .dataframe thead th {\n",
              "        text-align: right;\n",
              "    }\n",
              "</style>\n",
              "<table border=\"1\" class=\"dataframe\">\n",
              "  <thead>\n",
              "    <tr style=\"text-align: right;\">\n",
              "      <th></th>\n",
              "      <th>Source_Lat</th>\n",
              "      <th>Source_Long</th>\n",
              "      <th>Dest_Lat</th>\n",
              "      <th>Dest_Long</th>\n",
              "      <th>Distance</th>\n",
              "      <th>Duration</th>\n",
              "    </tr>\n",
              "  </thead>\n",
              "  <tbody>\n",
              "    <tr>\n",
              "      <th>1</th>\n",
              "      <td>NaN</td>\n",
              "      <td>NaN</td>\n",
              "      <td>13.043061</td>\n",
              "      <td>77.610191</td>\n",
              "      <td>NaN</td>\n",
              "      <td>NaN</td>\n",
              "    </tr>\n",
              "    <tr>\n",
              "      <th>2</th>\n",
              "      <td>13.043061</td>\n",
              "      <td>77.610191</td>\n",
              "      <td>13.042920</td>\n",
              "      <td>77.611275</td>\n",
              "      <td>0.118468</td>\n",
              "      <td>0.166667</td>\n",
              "    </tr>\n",
              "    <tr>\n",
              "      <th>3</th>\n",
              "      <td>13.042920</td>\n",
              "      <td>77.611275</td>\n",
              "      <td>13.042670</td>\n",
              "      <td>77.612312</td>\n",
              "      <td>0.115723</td>\n",
              "      <td>0.166667</td>\n",
              "    </tr>\n",
              "    <tr>\n",
              "      <th>4</th>\n",
              "      <td>13.042670</td>\n",
              "      <td>77.612312</td>\n",
              "      <td>13.042445</td>\n",
              "      <td>77.613235</td>\n",
              "      <td>0.103068</td>\n",
              "      <td>0.166667</td>\n",
              "    </tr>\n",
              "    <tr>\n",
              "      <th>5</th>\n",
              "      <td>13.042445</td>\n",
              "      <td>77.613235</td>\n",
              "      <td>13.042300</td>\n",
              "      <td>77.613518</td>\n",
              "      <td>0.034638</td>\n",
              "      <td>0.166667</td>\n",
              "    </tr>\n",
              "  </tbody>\n",
              "</table>\n",
              "</div>\n",
              "      <button class=\"colab-df-convert\" onclick=\"convertToInteractive('df-70e5f3fe-b93f-4a18-b294-20516cd651b6')\"\n",
              "              title=\"Convert this dataframe to an interactive table.\"\n",
              "              style=\"display:none;\">\n",
              "        \n",
              "  <svg xmlns=\"http://www.w3.org/2000/svg\" height=\"24px\"viewBox=\"0 0 24 24\"\n",
              "       width=\"24px\">\n",
              "    <path d=\"M0 0h24v24H0V0z\" fill=\"none\"/>\n",
              "    <path d=\"M18.56 5.44l.94 2.06.94-2.06 2.06-.94-2.06-.94-.94-2.06-.94 2.06-2.06.94zm-11 1L8.5 8.5l.94-2.06 2.06-.94-2.06-.94L8.5 2.5l-.94 2.06-2.06.94zm10 10l.94 2.06.94-2.06 2.06-.94-2.06-.94-.94-2.06-.94 2.06-2.06.94z\"/><path d=\"M17.41 7.96l-1.37-1.37c-.4-.4-.92-.59-1.43-.59-.52 0-1.04.2-1.43.59L10.3 9.45l-7.72 7.72c-.78.78-.78 2.05 0 2.83L4 21.41c.39.39.9.59 1.41.59.51 0 1.02-.2 1.41-.59l7.78-7.78 2.81-2.81c.8-.78.8-2.07 0-2.86zM5.41 20L4 18.59l7.72-7.72 1.47 1.35L5.41 20z\"/>\n",
              "  </svg>\n",
              "      </button>\n",
              "      \n",
              "  <style>\n",
              "    .colab-df-container {\n",
              "      display:flex;\n",
              "      flex-wrap:wrap;\n",
              "      gap: 12px;\n",
              "    }\n",
              "\n",
              "    .colab-df-convert {\n",
              "      background-color: #E8F0FE;\n",
              "      border: none;\n",
              "      border-radius: 50%;\n",
              "      cursor: pointer;\n",
              "      display: none;\n",
              "      fill: #1967D2;\n",
              "      height: 32px;\n",
              "      padding: 0 0 0 0;\n",
              "      width: 32px;\n",
              "    }\n",
              "\n",
              "    .colab-df-convert:hover {\n",
              "      background-color: #E2EBFA;\n",
              "      box-shadow: 0px 1px 2px rgba(60, 64, 67, 0.3), 0px 1px 3px 1px rgba(60, 64, 67, 0.15);\n",
              "      fill: #174EA6;\n",
              "    }\n",
              "\n",
              "    [theme=dark] .colab-df-convert {\n",
              "      background-color: #3B4455;\n",
              "      fill: #D2E3FC;\n",
              "    }\n",
              "\n",
              "    [theme=dark] .colab-df-convert:hover {\n",
              "      background-color: #434B5C;\n",
              "      box-shadow: 0px 1px 3px 1px rgba(0, 0, 0, 0.15);\n",
              "      filter: drop-shadow(0px 1px 2px rgba(0, 0, 0, 0.3));\n",
              "      fill: #FFFFFF;\n",
              "    }\n",
              "  </style>\n",
              "\n",
              "      <script>\n",
              "        const buttonEl =\n",
              "          document.querySelector('#df-70e5f3fe-b93f-4a18-b294-20516cd651b6 button.colab-df-convert');\n",
              "        buttonEl.style.display =\n",
              "          google.colab.kernel.accessAllowed ? 'block' : 'none';\n",
              "\n",
              "        async function convertToInteractive(key) {\n",
              "          const element = document.querySelector('#df-70e5f3fe-b93f-4a18-b294-20516cd651b6');\n",
              "          const dataTable =\n",
              "            await google.colab.kernel.invokeFunction('convertToInteractive',\n",
              "                                                     [key], {});\n",
              "          if (!dataTable) return;\n",
              "\n",
              "          const docLinkHtml = 'Like what you see? Visit the ' +\n",
              "            '<a target=\"_blank\" href=https://colab.research.google.com/notebooks/data_table.ipynb>data table notebook</a>'\n",
              "            + ' to learn more about interactive tables.';\n",
              "          element.innerHTML = '';\n",
              "          dataTable['output_type'] = 'display_data';\n",
              "          await google.colab.output.renderOutput(dataTable, element);\n",
              "          const docLink = document.createElement('div');\n",
              "          docLink.innerHTML = docLinkHtml;\n",
              "          element.appendChild(docLink);\n",
              "        }\n",
              "      </script>\n",
              "    </div>\n",
              "  </div>\n",
              "  "
            ]
          },
          "metadata": {},
          "execution_count": 23
        }
      ]
    },
    {
      "cell_type": "code",
      "source": [
        "d6.replace([np.inf, -np.inf], np.nan, inplace=True)    #replacing very large values with Nan\n",
        "d6.drop(d6.tail(1).index, #dropping the first and last rows from dataframe\n",
        "        inplace = True)\n",
        "d6.drop(d6.head(1).index,\n",
        "        inplace = True)\n",
        "\n",
        "pd.set_option('mode.use_inf_as_na', True)\n",
        "d6.dropna(how='any', inplace=True)       #dropping rows with Nan values from new dataframe\n",
        "# check = d6[d6.isna().any(axis=1)]"
      ],
      "metadata": {
        "id": "BJg6QTsocJ7Y"
      },
      "execution_count": null,
      "outputs": []
    },
    {
      "cell_type": "code",
      "source": [
        "# # d6.reset_index(inplace=True)\n",
        "# plt.figure(figsize=(10,10))\n",
        "# for i in range(10000):\n",
        "#     plt.plot([d6['Source_Lat'][i],d6['Dest_Lat'][i]],[d6['Source_Long'][i],d6['Dest_Long'][i]])"
      ],
      "metadata": {
        "id": "JkHRHq7g-Qk8"
      },
      "execution_count": null,
      "outputs": []
    },
    {
      "cell_type": "code",
      "source": [
        "X_train=d6.drop(['Duration'],axis=1) #creating training dataset \n",
        "#dropping Duration attribute"
      ],
      "metadata": {
        "id": "ISycrFmbdUv5"
      },
      "execution_count": null,
      "outputs": []
    },
    {
      "cell_type": "code",
      "source": [
        "X_train"
      ],
      "metadata": {
        "id": "lVkI7g69hi1m",
        "colab": {
          "base_uri": "https://localhost:8080/",
          "height": 423
        },
        "outputId": "a7327782-90b2-44d8-e49e-5b94bf5d882f"
      },
      "execution_count": null,
      "outputs": [
        {
          "output_type": "execute_result",
          "data": {
            "text/plain": [
              "      Source_Lat  Source_Long   Dest_Lat  Dest_Long  Distance\n",
              "2      13.043061    77.610191  13.042920  77.611275  0.118468\n",
              "3      13.042920    77.611275  13.042670  77.612312  0.115723\n",
              "4      13.042670    77.612312  13.042445  77.613235  0.103068\n",
              "5      13.042445    77.613235  13.042300  77.613518  0.034638\n",
              "6      13.042300    77.613518  13.042288  77.613564  0.005159\n",
              "...          ...          ...        ...        ...       ...\n",
              "3441   12.916583    77.572472  12.916560  77.572182  0.031534\n",
              "3442   12.916560    77.572182  12.916540  77.572044  0.015121\n",
              "3443   12.916540    77.572044  12.916533  77.571754  0.031440\n",
              "3444   12.916533    77.571754  12.916572  77.571442  0.034092\n",
              "3445   12.916572    77.571442  12.916570  77.571236  0.022328\n",
              "\n",
              "[329766 rows x 5 columns]"
            ],
            "text/html": [
              "\n",
              "  <div id=\"df-b0d1a97d-3a80-4a16-9236-05d5ac6639ec\">\n",
              "    <div class=\"colab-df-container\">\n",
              "      <div>\n",
              "<style scoped>\n",
              "    .dataframe tbody tr th:only-of-type {\n",
              "        vertical-align: middle;\n",
              "    }\n",
              "\n",
              "    .dataframe tbody tr th {\n",
              "        vertical-align: top;\n",
              "    }\n",
              "\n",
              "    .dataframe thead th {\n",
              "        text-align: right;\n",
              "    }\n",
              "</style>\n",
              "<table border=\"1\" class=\"dataframe\">\n",
              "  <thead>\n",
              "    <tr style=\"text-align: right;\">\n",
              "      <th></th>\n",
              "      <th>Source_Lat</th>\n",
              "      <th>Source_Long</th>\n",
              "      <th>Dest_Lat</th>\n",
              "      <th>Dest_Long</th>\n",
              "      <th>Distance</th>\n",
              "    </tr>\n",
              "  </thead>\n",
              "  <tbody>\n",
              "    <tr>\n",
              "      <th>2</th>\n",
              "      <td>13.043061</td>\n",
              "      <td>77.610191</td>\n",
              "      <td>13.042920</td>\n",
              "      <td>77.611275</td>\n",
              "      <td>0.118468</td>\n",
              "    </tr>\n",
              "    <tr>\n",
              "      <th>3</th>\n",
              "      <td>13.042920</td>\n",
              "      <td>77.611275</td>\n",
              "      <td>13.042670</td>\n",
              "      <td>77.612312</td>\n",
              "      <td>0.115723</td>\n",
              "    </tr>\n",
              "    <tr>\n",
              "      <th>4</th>\n",
              "      <td>13.042670</td>\n",
              "      <td>77.612312</td>\n",
              "      <td>13.042445</td>\n",
              "      <td>77.613235</td>\n",
              "      <td>0.103068</td>\n",
              "    </tr>\n",
              "    <tr>\n",
              "      <th>5</th>\n",
              "      <td>13.042445</td>\n",
              "      <td>77.613235</td>\n",
              "      <td>13.042300</td>\n",
              "      <td>77.613518</td>\n",
              "      <td>0.034638</td>\n",
              "    </tr>\n",
              "    <tr>\n",
              "      <th>6</th>\n",
              "      <td>13.042300</td>\n",
              "      <td>77.613518</td>\n",
              "      <td>13.042288</td>\n",
              "      <td>77.613564</td>\n",
              "      <td>0.005159</td>\n",
              "    </tr>\n",
              "    <tr>\n",
              "      <th>...</th>\n",
              "      <td>...</td>\n",
              "      <td>...</td>\n",
              "      <td>...</td>\n",
              "      <td>...</td>\n",
              "      <td>...</td>\n",
              "    </tr>\n",
              "    <tr>\n",
              "      <th>3441</th>\n",
              "      <td>12.916583</td>\n",
              "      <td>77.572472</td>\n",
              "      <td>12.916560</td>\n",
              "      <td>77.572182</td>\n",
              "      <td>0.031534</td>\n",
              "    </tr>\n",
              "    <tr>\n",
              "      <th>3442</th>\n",
              "      <td>12.916560</td>\n",
              "      <td>77.572182</td>\n",
              "      <td>12.916540</td>\n",
              "      <td>77.572044</td>\n",
              "      <td>0.015121</td>\n",
              "    </tr>\n",
              "    <tr>\n",
              "      <th>3443</th>\n",
              "      <td>12.916540</td>\n",
              "      <td>77.572044</td>\n",
              "      <td>12.916533</td>\n",
              "      <td>77.571754</td>\n",
              "      <td>0.031440</td>\n",
              "    </tr>\n",
              "    <tr>\n",
              "      <th>3444</th>\n",
              "      <td>12.916533</td>\n",
              "      <td>77.571754</td>\n",
              "      <td>12.916572</td>\n",
              "      <td>77.571442</td>\n",
              "      <td>0.034092</td>\n",
              "    </tr>\n",
              "    <tr>\n",
              "      <th>3445</th>\n",
              "      <td>12.916572</td>\n",
              "      <td>77.571442</td>\n",
              "      <td>12.916570</td>\n",
              "      <td>77.571236</td>\n",
              "      <td>0.022328</td>\n",
              "    </tr>\n",
              "  </tbody>\n",
              "</table>\n",
              "<p>329766 rows × 5 columns</p>\n",
              "</div>\n",
              "      <button class=\"colab-df-convert\" onclick=\"convertToInteractive('df-b0d1a97d-3a80-4a16-9236-05d5ac6639ec')\"\n",
              "              title=\"Convert this dataframe to an interactive table.\"\n",
              "              style=\"display:none;\">\n",
              "        \n",
              "  <svg xmlns=\"http://www.w3.org/2000/svg\" height=\"24px\"viewBox=\"0 0 24 24\"\n",
              "       width=\"24px\">\n",
              "    <path d=\"M0 0h24v24H0V0z\" fill=\"none\"/>\n",
              "    <path d=\"M18.56 5.44l.94 2.06.94-2.06 2.06-.94-2.06-.94-.94-2.06-.94 2.06-2.06.94zm-11 1L8.5 8.5l.94-2.06 2.06-.94-2.06-.94L8.5 2.5l-.94 2.06-2.06.94zm10 10l.94 2.06.94-2.06 2.06-.94-2.06-.94-.94-2.06-.94 2.06-2.06.94z\"/><path d=\"M17.41 7.96l-1.37-1.37c-.4-.4-.92-.59-1.43-.59-.52 0-1.04.2-1.43.59L10.3 9.45l-7.72 7.72c-.78.78-.78 2.05 0 2.83L4 21.41c.39.39.9.59 1.41.59.51 0 1.02-.2 1.41-.59l7.78-7.78 2.81-2.81c.8-.78.8-2.07 0-2.86zM5.41 20L4 18.59l7.72-7.72 1.47 1.35L5.41 20z\"/>\n",
              "  </svg>\n",
              "      </button>\n",
              "      \n",
              "  <style>\n",
              "    .colab-df-container {\n",
              "      display:flex;\n",
              "      flex-wrap:wrap;\n",
              "      gap: 12px;\n",
              "    }\n",
              "\n",
              "    .colab-df-convert {\n",
              "      background-color: #E8F0FE;\n",
              "      border: none;\n",
              "      border-radius: 50%;\n",
              "      cursor: pointer;\n",
              "      display: none;\n",
              "      fill: #1967D2;\n",
              "      height: 32px;\n",
              "      padding: 0 0 0 0;\n",
              "      width: 32px;\n",
              "    }\n",
              "\n",
              "    .colab-df-convert:hover {\n",
              "      background-color: #E2EBFA;\n",
              "      box-shadow: 0px 1px 2px rgba(60, 64, 67, 0.3), 0px 1px 3px 1px rgba(60, 64, 67, 0.15);\n",
              "      fill: #174EA6;\n",
              "    }\n",
              "\n",
              "    [theme=dark] .colab-df-convert {\n",
              "      background-color: #3B4455;\n",
              "      fill: #D2E3FC;\n",
              "    }\n",
              "\n",
              "    [theme=dark] .colab-df-convert:hover {\n",
              "      background-color: #434B5C;\n",
              "      box-shadow: 0px 1px 3px 1px rgba(0, 0, 0, 0.15);\n",
              "      filter: drop-shadow(0px 1px 2px rgba(0, 0, 0, 0.3));\n",
              "      fill: #FFFFFF;\n",
              "    }\n",
              "  </style>\n",
              "\n",
              "      <script>\n",
              "        const buttonEl =\n",
              "          document.querySelector('#df-b0d1a97d-3a80-4a16-9236-05d5ac6639ec button.colab-df-convert');\n",
              "        buttonEl.style.display =\n",
              "          google.colab.kernel.accessAllowed ? 'block' : 'none';\n",
              "\n",
              "        async function convertToInteractive(key) {\n",
              "          const element = document.querySelector('#df-b0d1a97d-3a80-4a16-9236-05d5ac6639ec');\n",
              "          const dataTable =\n",
              "            await google.colab.kernel.invokeFunction('convertToInteractive',\n",
              "                                                     [key], {});\n",
              "          if (!dataTable) return;\n",
              "\n",
              "          const docLinkHtml = 'Like what you see? Visit the ' +\n",
              "            '<a target=\"_blank\" href=https://colab.research.google.com/notebooks/data_table.ipynb>data table notebook</a>'\n",
              "            + ' to learn more about interactive tables.';\n",
              "          element.innerHTML = '';\n",
              "          dataTable['output_type'] = 'display_data';\n",
              "          await google.colab.output.renderOutput(dataTable, element);\n",
              "          const docLink = document.createElement('div');\n",
              "          docLink.innerHTML = docLinkHtml;\n",
              "          element.appendChild(docLink);\n",
              "        }\n",
              "      </script>\n",
              "    </div>\n",
              "  </div>\n",
              "  "
            ]
          },
          "metadata": {},
          "execution_count": 29
        }
      ]
    },
    {
      "cell_type": "code",
      "source": [
        "y_train=d6['Duration']  #creating target variable"
      ],
      "metadata": {
        "id": "dQReycKthpNU"
      },
      "execution_count": null,
      "outputs": []
    },
    {
      "cell_type": "code",
      "source": [
        "y_train"
      ],
      "metadata": {
        "id": "N2SekVU_hwQ1",
        "colab": {
          "base_uri": "https://localhost:8080/"
        },
        "outputId": "7cd4d89a-4143-4e10-eb0e-ee6675fbcd55"
      },
      "execution_count": null,
      "outputs": [
        {
          "output_type": "execute_result",
          "data": {
            "text/plain": [
              "2       0.166667\n",
              "3       0.166667\n",
              "4       0.166667\n",
              "5       0.166667\n",
              "6       0.183333\n",
              "          ...   \n",
              "3441    0.166667\n",
              "3442    0.166667\n",
              "3443    0.166667\n",
              "3444    0.166667\n",
              "3445    0.166667\n",
              "Name: Duration, Length: 329766, dtype: float64"
            ]
          },
          "metadata": {},
          "execution_count": 31
        }
      ]
    },
    {
      "cell_type": "code",
      "source": [
        "d6.to_parquet('data.parquet.gzip',engine='pyarrow',compression='gzip')"
      ],
      "metadata": {
        "id": "qZtnup0ppSav"
      },
      "execution_count": null,
      "outputs": []
    },
    {
      "cell_type": "code",
      "source": [
        "out = pd.cut(d6['Distance'], bins=[-0.1, 0, 0.05, 0.1, 0.2, 0.4, 1, 2, 5, 10, 20, 40, 50], include_lowest=True)\n",
        "out1 = pd.cut(d6['Duration'], bins=[-0.1, 0, 0.1, 0.5, 1, 4, 10, 20, 50, 90, 180, 300, 500, 800, 1200, 1500], include_lowest=True)\n",
        "out1.value_counts()"
      ],
      "metadata": {
        "id": "cdjoOxjtnPLA",
        "colab": {
          "base_uri": "https://localhost:8080/"
        },
        "outputId": "0a781334-0af9-458b-f2ff-9dc2b22d2c94"
      },
      "execution_count": null,
      "outputs": [
        {
          "output_type": "execute_result",
          "data": {
            "text/plain": [
              "(0.1, 0.5]          325527\n",
              "(0.5, 1.0]            1551\n",
              "(0.0, 0.1]            1472\n",
              "(10.0, 20.0]           662\n",
              "(1.0, 4.0]             360\n",
              "(20.0, 50.0]           124\n",
              "(4.0, 10.0]             28\n",
              "(-0.101, 0.0]           23\n",
              "(50.0, 90.0]            14\n",
              "(180.0, 300.0]           3\n",
              "(90.0, 180.0]            1\n",
              "(300.0, 500.0]           1\n",
              "(500.0, 800.0]           0\n",
              "(800.0, 1200.0]          0\n",
              "(1200.0, 1500.0]         0\n",
              "Name: Duration, dtype: int64"
            ]
          },
          "metadata": {},
          "execution_count": 34
        }
      ]
    },
    {
      "cell_type": "code",
      "source": [
        "# use this method to create the test data along with the labels\n",
        "def create_test(input,truth):      # pass the X labels and y labels as parameters\n",
        "    test_df = input \n",
        "    distance1=haversine(test_df['Dest_Long'],test_df['Dest_Lat'],test_df['Source_Long'],test_df['Source_Lat'])\n",
        "    test_df['Distance']=distance1         #creating distance attribute\n",
        "    test_df.replace([np.inf, -np.inf], np.nan, inplace=True)      #replacing very large values with Nan\n",
        "    if \"Unnamed: 0\" in truth.columns:\n",
        "        truth.drop(\"Unnamed: 0\",axis=1,inplace=True)\n",
        "    if \"Unnamed: 0\" in test_df.columns:\n",
        "        test_df.drop(\"Unnamed: 0\",axis=1,inplace=True)\n",
        "    test = pd.concat([test_df,truth],axis=1)\n",
        "    return test\n"
      ],
      "metadata": {
        "id": "gI3XHTOJ6e6H"
      },
      "execution_count": null,
      "outputs": []
    },
    {
      "cell_type": "markdown",
      "source": [
        "# Linear Regression Model"
      ],
      "metadata": {
        "id": "5wFNDfnX_rFF"
      }
    },
    {
      "cell_type": "code",
      "source": [
        "reg_model=LinearRegression(n_jobs=4) \n",
        "#reg_model.fit((X_train[\"Distance\"].to_numpy().reshape(-1,1)), y_train)\n",
        "reg_model.fit(X_train, y_train)"
      ],
      "metadata": {
        "id": "w3JqnOv2jJ9o",
        "colab": {
          "base_uri": "https://localhost:8080/"
        },
        "outputId": "ceb019e1-c6be-4fae-9b31-6069926e9859"
      },
      "execution_count": null,
      "outputs": [
        {
          "output_type": "execute_result",
          "data": {
            "text/plain": [
              "LinearRegression(n_jobs=4)"
            ]
          },
          "metadata": {},
          "execution_count": 48
        }
      ]
    },
    {
      "cell_type": "code",
      "source": [
        "test = create_test(dfInput,dfGroundTruth)\n",
        "test.columns"
      ],
      "metadata": {
        "id": "gguATuwDpIJT",
        "colab": {
          "base_uri": "https://localhost:8080/"
        },
        "outputId": "4df02eb0-cd5b-43f8-811a-6416033eaf88"
      },
      "execution_count": null,
      "outputs": [
        {
          "output_type": "execute_result",
          "data": {
            "text/plain": [
              "Index(['Source_Lat', 'Source_Long', 'Dest_Lat', 'Dest_Long', 'Distance', 'TT'], dtype='object')"
            ]
          },
          "metadata": {},
          "execution_count": 50
        }
      ]
    },
    {
      "cell_type": "code",
      "source": [
        "y_test=test['TT']"
      ],
      "metadata": {
        "id": "jx0tmfiQph-j"
      },
      "execution_count": null,
      "outputs": []
    },
    {
      "cell_type": "code",
      "source": [
        "test.corr(method ='pearson')"
      ],
      "metadata": {
        "id": "kksClSiZcAkj",
        "colab": {
          "base_uri": "https://localhost:8080/",
          "height": 237
        },
        "outputId": "dd0eb444-5b10-4cc6-cc82-78311879d8f6"
      },
      "execution_count": null,
      "outputs": [
        {
          "output_type": "execute_result",
          "data": {
            "text/plain": [
              "             Source_Lat  Source_Long  Dest_Lat  Dest_Long  Distance        TT\n",
              "Source_Lat     1.000000    -0.051697  0.747833  -0.063366 -0.028416 -0.046561\n",
              "Source_Long   -0.051697     1.000000 -0.070110   0.801964 -0.017583 -0.014871\n",
              "Dest_Lat       0.747833    -0.070110  1.000000  -0.095723 -0.006238 -0.052645\n",
              "Dest_Long     -0.063366     0.801964 -0.095723   1.000000  0.043842  0.038302\n",
              "Distance      -0.028416    -0.017583 -0.006238   0.043842  1.000000  0.841405\n",
              "TT            -0.046561    -0.014871 -0.052645   0.038302  0.841405  1.000000"
            ],
            "text/html": [
              "\n",
              "  <div id=\"df-3fae4ab2-043c-478e-90ed-9a7928652a24\">\n",
              "    <div class=\"colab-df-container\">\n",
              "      <div>\n",
              "<style scoped>\n",
              "    .dataframe tbody tr th:only-of-type {\n",
              "        vertical-align: middle;\n",
              "    }\n",
              "\n",
              "    .dataframe tbody tr th {\n",
              "        vertical-align: top;\n",
              "    }\n",
              "\n",
              "    .dataframe thead th {\n",
              "        text-align: right;\n",
              "    }\n",
              "</style>\n",
              "<table border=\"1\" class=\"dataframe\">\n",
              "  <thead>\n",
              "    <tr style=\"text-align: right;\">\n",
              "      <th></th>\n",
              "      <th>Source_Lat</th>\n",
              "      <th>Source_Long</th>\n",
              "      <th>Dest_Lat</th>\n",
              "      <th>Dest_Long</th>\n",
              "      <th>Distance</th>\n",
              "      <th>TT</th>\n",
              "    </tr>\n",
              "  </thead>\n",
              "  <tbody>\n",
              "    <tr>\n",
              "      <th>Source_Lat</th>\n",
              "      <td>1.000000</td>\n",
              "      <td>-0.051697</td>\n",
              "      <td>0.747833</td>\n",
              "      <td>-0.063366</td>\n",
              "      <td>-0.028416</td>\n",
              "      <td>-0.046561</td>\n",
              "    </tr>\n",
              "    <tr>\n",
              "      <th>Source_Long</th>\n",
              "      <td>-0.051697</td>\n",
              "      <td>1.000000</td>\n",
              "      <td>-0.070110</td>\n",
              "      <td>0.801964</td>\n",
              "      <td>-0.017583</td>\n",
              "      <td>-0.014871</td>\n",
              "    </tr>\n",
              "    <tr>\n",
              "      <th>Dest_Lat</th>\n",
              "      <td>0.747833</td>\n",
              "      <td>-0.070110</td>\n",
              "      <td>1.000000</td>\n",
              "      <td>-0.095723</td>\n",
              "      <td>-0.006238</td>\n",
              "      <td>-0.052645</td>\n",
              "    </tr>\n",
              "    <tr>\n",
              "      <th>Dest_Long</th>\n",
              "      <td>-0.063366</td>\n",
              "      <td>0.801964</td>\n",
              "      <td>-0.095723</td>\n",
              "      <td>1.000000</td>\n",
              "      <td>0.043842</td>\n",
              "      <td>0.038302</td>\n",
              "    </tr>\n",
              "    <tr>\n",
              "      <th>Distance</th>\n",
              "      <td>-0.028416</td>\n",
              "      <td>-0.017583</td>\n",
              "      <td>-0.006238</td>\n",
              "      <td>0.043842</td>\n",
              "      <td>1.000000</td>\n",
              "      <td>0.841405</td>\n",
              "    </tr>\n",
              "    <tr>\n",
              "      <th>TT</th>\n",
              "      <td>-0.046561</td>\n",
              "      <td>-0.014871</td>\n",
              "      <td>-0.052645</td>\n",
              "      <td>0.038302</td>\n",
              "      <td>0.841405</td>\n",
              "      <td>1.000000</td>\n",
              "    </tr>\n",
              "  </tbody>\n",
              "</table>\n",
              "</div>\n",
              "      <button class=\"colab-df-convert\" onclick=\"convertToInteractive('df-3fae4ab2-043c-478e-90ed-9a7928652a24')\"\n",
              "              title=\"Convert this dataframe to an interactive table.\"\n",
              "              style=\"display:none;\">\n",
              "        \n",
              "  <svg xmlns=\"http://www.w3.org/2000/svg\" height=\"24px\"viewBox=\"0 0 24 24\"\n",
              "       width=\"24px\">\n",
              "    <path d=\"M0 0h24v24H0V0z\" fill=\"none\"/>\n",
              "    <path d=\"M18.56 5.44l.94 2.06.94-2.06 2.06-.94-2.06-.94-.94-2.06-.94 2.06-2.06.94zm-11 1L8.5 8.5l.94-2.06 2.06-.94-2.06-.94L8.5 2.5l-.94 2.06-2.06.94zm10 10l.94 2.06.94-2.06 2.06-.94-2.06-.94-.94-2.06-.94 2.06-2.06.94z\"/><path d=\"M17.41 7.96l-1.37-1.37c-.4-.4-.92-.59-1.43-.59-.52 0-1.04.2-1.43.59L10.3 9.45l-7.72 7.72c-.78.78-.78 2.05 0 2.83L4 21.41c.39.39.9.59 1.41.59.51 0 1.02-.2 1.41-.59l7.78-7.78 2.81-2.81c.8-.78.8-2.07 0-2.86zM5.41 20L4 18.59l7.72-7.72 1.47 1.35L5.41 20z\"/>\n",
              "  </svg>\n",
              "      </button>\n",
              "      \n",
              "  <style>\n",
              "    .colab-df-container {\n",
              "      display:flex;\n",
              "      flex-wrap:wrap;\n",
              "      gap: 12px;\n",
              "    }\n",
              "\n",
              "    .colab-df-convert {\n",
              "      background-color: #E8F0FE;\n",
              "      border: none;\n",
              "      border-radius: 50%;\n",
              "      cursor: pointer;\n",
              "      display: none;\n",
              "      fill: #1967D2;\n",
              "      height: 32px;\n",
              "      padding: 0 0 0 0;\n",
              "      width: 32px;\n",
              "    }\n",
              "\n",
              "    .colab-df-convert:hover {\n",
              "      background-color: #E2EBFA;\n",
              "      box-shadow: 0px 1px 2px rgba(60, 64, 67, 0.3), 0px 1px 3px 1px rgba(60, 64, 67, 0.15);\n",
              "      fill: #174EA6;\n",
              "    }\n",
              "\n",
              "    [theme=dark] .colab-df-convert {\n",
              "      background-color: #3B4455;\n",
              "      fill: #D2E3FC;\n",
              "    }\n",
              "\n",
              "    [theme=dark] .colab-df-convert:hover {\n",
              "      background-color: #434B5C;\n",
              "      box-shadow: 0px 1px 3px 1px rgba(0, 0, 0, 0.15);\n",
              "      filter: drop-shadow(0px 1px 2px rgba(0, 0, 0, 0.3));\n",
              "      fill: #FFFFFF;\n",
              "    }\n",
              "  </style>\n",
              "\n",
              "      <script>\n",
              "        const buttonEl =\n",
              "          document.querySelector('#df-3fae4ab2-043c-478e-90ed-9a7928652a24 button.colab-df-convert');\n",
              "        buttonEl.style.display =\n",
              "          google.colab.kernel.accessAllowed ? 'block' : 'none';\n",
              "\n",
              "        async function convertToInteractive(key) {\n",
              "          const element = document.querySelector('#df-3fae4ab2-043c-478e-90ed-9a7928652a24');\n",
              "          const dataTable =\n",
              "            await google.colab.kernel.invokeFunction('convertToInteractive',\n",
              "                                                     [key], {});\n",
              "          if (!dataTable) return;\n",
              "\n",
              "          const docLinkHtml = 'Like what you see? Visit the ' +\n",
              "            '<a target=\"_blank\" href=https://colab.research.google.com/notebooks/data_table.ipynb>data table notebook</a>'\n",
              "            + ' to learn more about interactive tables.';\n",
              "          element.innerHTML = '';\n",
              "          dataTable['output_type'] = 'display_data';\n",
              "          await google.colab.output.renderOutput(dataTable, element);\n",
              "          const docLink = document.createElement('div');\n",
              "          docLink.innerHTML = docLinkHtml;\n",
              "          element.appendChild(docLink);\n",
              "        }\n",
              "      </script>\n",
              "    </div>\n",
              "  </div>\n",
              "  "
            ]
          },
          "metadata": {},
          "execution_count": 52
        }
      ]
    },
    {
      "cell_type": "code",
      "source": [
        "test.describe()"
      ],
      "metadata": {
        "id": "q1H-bvULGZ-G",
        "colab": {
          "base_uri": "https://localhost:8080/",
          "height": 300
        },
        "outputId": "25e9c793-d5d7-48ae-a90b-b94130c81c25"
      },
      "execution_count": null,
      "outputs": [
        {
          "output_type": "execute_result",
          "data": {
            "text/plain": [
              "        Source_Lat  Source_Long     Dest_Lat    Dest_Long     Distance  \\\n",
              "count  1205.000000  1205.000000  1205.000000  1205.000000  1205.000000   \n",
              "mean     12.964076    77.606528    12.964482    77.611345     6.269450   \n",
              "std       0.074979     0.076524     0.072193     0.076525     4.692632   \n",
              "min      12.794401    77.418312    12.794438    77.418381     0.501935   \n",
              "25%      12.916577    77.560646    12.917477    77.564011     1.883177   \n",
              "50%      12.963935    77.595894    12.964300    77.600563     5.643676   \n",
              "75%      13.009059    77.659546    13.003739    77.662979     9.601487   \n",
              "max      13.155079    77.788261    13.155124    77.788300    29.875871   \n",
              "\n",
              "                TT  \n",
              "count  1205.000000  \n",
              "mean     32.526445  \n",
              "std      23.069809  \n",
              "min       0.666667  \n",
              "25%       9.950000  \n",
              "50%      28.050000  \n",
              "75%      59.783333  \n",
              "max      60.000000  "
            ],
            "text/html": [
              "\n",
              "  <div id=\"df-c96714cd-7df2-4b17-b860-65fa127dfcbd\">\n",
              "    <div class=\"colab-df-container\">\n",
              "      <div>\n",
              "<style scoped>\n",
              "    .dataframe tbody tr th:only-of-type {\n",
              "        vertical-align: middle;\n",
              "    }\n",
              "\n",
              "    .dataframe tbody tr th {\n",
              "        vertical-align: top;\n",
              "    }\n",
              "\n",
              "    .dataframe thead th {\n",
              "        text-align: right;\n",
              "    }\n",
              "</style>\n",
              "<table border=\"1\" class=\"dataframe\">\n",
              "  <thead>\n",
              "    <tr style=\"text-align: right;\">\n",
              "      <th></th>\n",
              "      <th>Source_Lat</th>\n",
              "      <th>Source_Long</th>\n",
              "      <th>Dest_Lat</th>\n",
              "      <th>Dest_Long</th>\n",
              "      <th>Distance</th>\n",
              "      <th>TT</th>\n",
              "    </tr>\n",
              "  </thead>\n",
              "  <tbody>\n",
              "    <tr>\n",
              "      <th>count</th>\n",
              "      <td>1205.000000</td>\n",
              "      <td>1205.000000</td>\n",
              "      <td>1205.000000</td>\n",
              "      <td>1205.000000</td>\n",
              "      <td>1205.000000</td>\n",
              "      <td>1205.000000</td>\n",
              "    </tr>\n",
              "    <tr>\n",
              "      <th>mean</th>\n",
              "      <td>12.964076</td>\n",
              "      <td>77.606528</td>\n",
              "      <td>12.964482</td>\n",
              "      <td>77.611345</td>\n",
              "      <td>6.269450</td>\n",
              "      <td>32.526445</td>\n",
              "    </tr>\n",
              "    <tr>\n",
              "      <th>std</th>\n",
              "      <td>0.074979</td>\n",
              "      <td>0.076524</td>\n",
              "      <td>0.072193</td>\n",
              "      <td>0.076525</td>\n",
              "      <td>4.692632</td>\n",
              "      <td>23.069809</td>\n",
              "    </tr>\n",
              "    <tr>\n",
              "      <th>min</th>\n",
              "      <td>12.794401</td>\n",
              "      <td>77.418312</td>\n",
              "      <td>12.794438</td>\n",
              "      <td>77.418381</td>\n",
              "      <td>0.501935</td>\n",
              "      <td>0.666667</td>\n",
              "    </tr>\n",
              "    <tr>\n",
              "      <th>25%</th>\n",
              "      <td>12.916577</td>\n",
              "      <td>77.560646</td>\n",
              "      <td>12.917477</td>\n",
              "      <td>77.564011</td>\n",
              "      <td>1.883177</td>\n",
              "      <td>9.950000</td>\n",
              "    </tr>\n",
              "    <tr>\n",
              "      <th>50%</th>\n",
              "      <td>12.963935</td>\n",
              "      <td>77.595894</td>\n",
              "      <td>12.964300</td>\n",
              "      <td>77.600563</td>\n",
              "      <td>5.643676</td>\n",
              "      <td>28.050000</td>\n",
              "    </tr>\n",
              "    <tr>\n",
              "      <th>75%</th>\n",
              "      <td>13.009059</td>\n",
              "      <td>77.659546</td>\n",
              "      <td>13.003739</td>\n",
              "      <td>77.662979</td>\n",
              "      <td>9.601487</td>\n",
              "      <td>59.783333</td>\n",
              "    </tr>\n",
              "    <tr>\n",
              "      <th>max</th>\n",
              "      <td>13.155079</td>\n",
              "      <td>77.788261</td>\n",
              "      <td>13.155124</td>\n",
              "      <td>77.788300</td>\n",
              "      <td>29.875871</td>\n",
              "      <td>60.000000</td>\n",
              "    </tr>\n",
              "  </tbody>\n",
              "</table>\n",
              "</div>\n",
              "      <button class=\"colab-df-convert\" onclick=\"convertToInteractive('df-c96714cd-7df2-4b17-b860-65fa127dfcbd')\"\n",
              "              title=\"Convert this dataframe to an interactive table.\"\n",
              "              style=\"display:none;\">\n",
              "        \n",
              "  <svg xmlns=\"http://www.w3.org/2000/svg\" height=\"24px\"viewBox=\"0 0 24 24\"\n",
              "       width=\"24px\">\n",
              "    <path d=\"M0 0h24v24H0V0z\" fill=\"none\"/>\n",
              "    <path d=\"M18.56 5.44l.94 2.06.94-2.06 2.06-.94-2.06-.94-.94-2.06-.94 2.06-2.06.94zm-11 1L8.5 8.5l.94-2.06 2.06-.94-2.06-.94L8.5 2.5l-.94 2.06-2.06.94zm10 10l.94 2.06.94-2.06 2.06-.94-2.06-.94-.94-2.06-.94 2.06-2.06.94z\"/><path d=\"M17.41 7.96l-1.37-1.37c-.4-.4-.92-.59-1.43-.59-.52 0-1.04.2-1.43.59L10.3 9.45l-7.72 7.72c-.78.78-.78 2.05 0 2.83L4 21.41c.39.39.9.59 1.41.59.51 0 1.02-.2 1.41-.59l7.78-7.78 2.81-2.81c.8-.78.8-2.07 0-2.86zM5.41 20L4 18.59l7.72-7.72 1.47 1.35L5.41 20z\"/>\n",
              "  </svg>\n",
              "      </button>\n",
              "      \n",
              "  <style>\n",
              "    .colab-df-container {\n",
              "      display:flex;\n",
              "      flex-wrap:wrap;\n",
              "      gap: 12px;\n",
              "    }\n",
              "\n",
              "    .colab-df-convert {\n",
              "      background-color: #E8F0FE;\n",
              "      border: none;\n",
              "      border-radius: 50%;\n",
              "      cursor: pointer;\n",
              "      display: none;\n",
              "      fill: #1967D2;\n",
              "      height: 32px;\n",
              "      padding: 0 0 0 0;\n",
              "      width: 32px;\n",
              "    }\n",
              "\n",
              "    .colab-df-convert:hover {\n",
              "      background-color: #E2EBFA;\n",
              "      box-shadow: 0px 1px 2px rgba(60, 64, 67, 0.3), 0px 1px 3px 1px rgba(60, 64, 67, 0.15);\n",
              "      fill: #174EA6;\n",
              "    }\n",
              "\n",
              "    [theme=dark] .colab-df-convert {\n",
              "      background-color: #3B4455;\n",
              "      fill: #D2E3FC;\n",
              "    }\n",
              "\n",
              "    [theme=dark] .colab-df-convert:hover {\n",
              "      background-color: #434B5C;\n",
              "      box-shadow: 0px 1px 3px 1px rgba(0, 0, 0, 0.15);\n",
              "      filter: drop-shadow(0px 1px 2px rgba(0, 0, 0, 0.3));\n",
              "      fill: #FFFFFF;\n",
              "    }\n",
              "  </style>\n",
              "\n",
              "      <script>\n",
              "        const buttonEl =\n",
              "          document.querySelector('#df-c96714cd-7df2-4b17-b860-65fa127dfcbd button.colab-df-convert');\n",
              "        buttonEl.style.display =\n",
              "          google.colab.kernel.accessAllowed ? 'block' : 'none';\n",
              "\n",
              "        async function convertToInteractive(key) {\n",
              "          const element = document.querySelector('#df-c96714cd-7df2-4b17-b860-65fa127dfcbd');\n",
              "          const dataTable =\n",
              "            await google.colab.kernel.invokeFunction('convertToInteractive',\n",
              "                                                     [key], {});\n",
              "          if (!dataTable) return;\n",
              "\n",
              "          const docLinkHtml = 'Like what you see? Visit the ' +\n",
              "            '<a target=\"_blank\" href=https://colab.research.google.com/notebooks/data_table.ipynb>data table notebook</a>'\n",
              "            + ' to learn more about interactive tables.';\n",
              "          element.innerHTML = '';\n",
              "          dataTable['output_type'] = 'display_data';\n",
              "          await google.colab.output.renderOutput(dataTable, element);\n",
              "          const docLink = document.createElement('div');\n",
              "          docLink.innerHTML = docLinkHtml;\n",
              "          element.appendChild(docLink);\n",
              "        }\n",
              "      </script>\n",
              "    </div>\n",
              "  </div>\n",
              "  "
            ]
          },
          "metadata": {},
          "execution_count": 53
        }
      ]
    },
    {
      "cell_type": "code",
      "source": [
        "test.drop(\"TT\",axis=1,inplace=True)"
      ],
      "metadata": {
        "id": "BVQAa2eHpoOM"
      },
      "execution_count": null,
      "outputs": []
    },
    {
      "cell_type": "code",
      "source": [
        "print(\"rmse\",reg_model.score(test, y_test))"
      ],
      "metadata": {
        "id": "qjAkZzwojYn2",
        "colab": {
          "base_uri": "https://localhost:8080/"
        },
        "outputId": "c04e0f95-5c28-4ba6-93ef-7e472af922a0"
      },
      "execution_count": null,
      "outputs": [
        {
          "output_type": "stream",
          "name": "stdout",
          "text": [
            "rmse 0.48999438081730506\n"
          ]
        }
      ]
    },
    {
      "cell_type": "code",
      "source": [
        "# test=test.reshape(-1, 1)\n",
        "pred = reg_model.predict(test)\n",
        "print(\"mae = \",mean_absolute_error(y_test,pred))"
      ],
      "metadata": {
        "id": "mVfm6S9poZ9N",
        "colab": {
          "base_uri": "https://localhost:8080/"
        },
        "outputId": "95867b6a-c817-4541-8284-4f159497e906"
      },
      "execution_count": null,
      "outputs": [
        {
          "output_type": "stream",
          "name": "stdout",
          "text": [
            "mae =  12.263528887669082\n"
          ]
        }
      ]
    },
    {
      "cell_type": "code",
      "source": [
        "pred = pd.DataFrame(pred)\n",
        "check = pd.concat([y_test,pred],axis=1)\n",
        "check = check.sort_values(by='TT')\n",
        "check.loc[check[0] > 64, 0] = 60\n",
        "plt.figure(figsize=(5,5))\n",
        "plt.scatter(check['TT'],check[0], s=5)\n",
        "plt.xlabel('Original Travel Time')\n",
        "plt.ylabel('Predicted Travel Time')\n"
      ],
      "metadata": {
        "id": "C-rbmSIvCgcm",
        "colab": {
          "base_uri": "https://localhost:8080/",
          "height": 351
        },
        "outputId": "bcd1630b-8886-406f-c145-263bb3cffa9f"
      },
      "execution_count": null,
      "outputs": [
        {
          "output_type": "execute_result",
          "data": {
            "text/plain": [
              "Text(0, 0.5, 'Predicted Travel Time')"
            ]
          },
          "metadata": {},
          "execution_count": 59
        },
        {
          "output_type": "display_data",
          "data": {
            "text/plain": [
              "<Figure size 360x360 with 1 Axes>"
            ],
            "image/png": "[encoded data removed]"
          },
          "metadata": {
            "needs_background": "light"
          }
        }
      ]
    },
    {
      "cell_type": "code",
      "source": [
        "\n",
        "for p in range(2,9):\n",
        "    poly_features = PolynomialFeatures(p)#degree is p\n",
        "    x_poly = poly_features.fit_transform((X_train[\"Distance\"].to_numpy()).reshape(-1, 1))\n",
        "    #x_poly = poly_features.fit_transform(X_train)\n",
        "    reg = LinearRegression()\n",
        "    reg.fit(x_poly, y_train)\n",
        "    x_test_poly = poly_features.fit_transform((test[\"Distance\"].to_numpy()).reshape(-1, 1))\n",
        "    #x_test_poly = poly_features.fit_transform(test)\n",
        "\n",
        "    y_predict = reg.predict(x_test_poly)\n",
        "    mae = (mean_absolute_error(y_test, y_predict)) \n",
        "    if p==2:\n",
        "      # y_predict = pd.DataFrame(y_predict)\n",
        "      # check = pd.concat([y_test,y_predict],axis=1)\n",
        "      # check = check.sort_values(by='TT')\n",
        "      # check\n",
        "      # plt.figure(figsize=(10,10))\n",
        "      # plt.plot(check['TT'],check[0])\n",
        "      plt.scatter(y_predict,y_test)\n",
        "\n",
        "    \n",
        "    print(\"MAE for\", p, 'is', mae)\n",
        "    "
      ],
      "metadata": {
        "id": "Ot-8Q1vvMcxn",
        "colab": {
          "base_uri": "https://localhost:8080/",
          "height": 386
        },
        "outputId": "5d070441-90ca-4a72-d995-8d8c5d174b29"
      },
      "execution_count": null,
      "outputs": [
        {
          "output_type": "stream",
          "name": "stdout",
          "text": [
            "MAE for 2 is 12.10199300498324\n",
            "MAE for 3 is 89.95113682711877\n",
            "MAE for 4 is 360.811958303185\n",
            "MAE for 5 is 141.80286143211083\n",
            "MAE for 6 is 2830.2723886466547\n",
            "MAE for 7 is 34015.05797429723\n",
            "MAE for 8 is 257559.46425692362\n"
          ]
        },
        {
          "output_type": "display_data",
          "data": {
            "text/plain": [
              "<Figure size 432x288 with 1 Axes>"
            ],
            "image/png": "[encoded data removed]"
          },
          "metadata": {
            "needs_background": "light"
          }
        }
      ]
    },
    {
      "cell_type": "markdown",
      "source": [],
      "metadata": {
        "id": "xuBNPj_4XZK1"
      }
    },
    {
      "cell_type": "markdown",
      "source": [
        "# Random Forest Model"
      ],
      "metadata": {
        "id": "q3iQL14-_QaM"
      }
    },
    {
      "cell_type": "code",
      "source": [
        "#Xtrain,Xtest,ytrain,ytest = train_test_split(X_train,y_train, train_size = 0.6, random_state=42,shuffle=False) "
      ],
      "metadata": {
        "id": "iQLhY64I6bck"
      },
      "execution_count": null,
      "outputs": []
    },
    {
      "cell_type": "markdown",
      "source": [],
      "metadata": {
        "id": "D_r30HPb8YEv"
      }
    },
    {
      "cell_type": "code",
      "source": [
        "# forest_model = RandomForestRegressor(random_state=1,oob_score=True,)\n",
        "# forest_model.fit(X_train, y_train)\n",
        "# #print(\"yes\")"
      ],
      "metadata": {
        "id": "rFp612Om-PUt"
      },
      "execution_count": null,
      "outputs": []
    },
    {
      "cell_type": "code",
      "source": [
        "forest_model = RandomForestRegressor(random_state=1,oob_score=True,)\n",
        "forest_model.fit(X_train.head(18000), y_train.head(18000))"
      ],
      "metadata": {
        "id": "aSFRkmFssfT8",
        "colab": {
          "base_uri": "https://localhost:8080/"
        },
        "outputId": "d904627f-e215-465f-bb7f-665a9b5858a8"
      },
      "execution_count": null,
      "outputs": [
        {
          "output_type": "execute_result",
          "data": {
            "text/plain": [
              "RandomForestRegressor(oob_score=True, random_state=1)"
            ]
          },
          "metadata": {},
          "execution_count": 63
        }
      ]
    },
    {
      "cell_type": "code",
      "source": [
        "pred = forest_model.predict(test)\n",
        "print(\"Mean absolute error obtained is:\",mean_absolute_error(y_test, pred))"
      ],
      "metadata": {
        "id": "9SWboOXP32nq",
        "colab": {
          "base_uri": "https://localhost:8080/"
        },
        "outputId": "da795da1-877f-4a3c-b484-4bb7dee8b7d1"
      },
      "execution_count": null,
      "outputs": [
        {
          "output_type": "stream",
          "name": "stdout",
          "text": [
            "Mean absolute error obtained is: 11.297089873247877\n"
          ]
        }
      ]
    },
    {
      "cell_type": "code",
      "source": [
        "pred"
      ],
      "metadata": {
        "id": "qFKu88mTDSo3",
        "colab": {
          "base_uri": "https://localhost:8080/"
        },
        "outputId": "ae0ed257-b3ea-460f-f920-94af764827e9"
      },
      "execution_count": null,
      "outputs": [
        {
          "output_type": "execute_result",
          "data": {
            "text/plain": [
              "array([ 1.14966667,  0.88033333, 16.06766667, ..., 48.84516667,\n",
              "       32.4505    , 57.423     ])"
            ]
          },
          "metadata": {},
          "execution_count": 65
        }
      ]
    },
    {
      "cell_type": "code",
      "source": [
        "plt.scatter(pred,y_test)"
      ],
      "metadata": {
        "id": "B4-vhtRBDMdc",
        "colab": {
          "base_uri": "https://localhost:8080/",
          "height": 282
        },
        "outputId": "ada6803a-9a04-4ad5-8fa9-82849d6ac64a"
      },
      "execution_count": null,
      "outputs": [
        {
          "output_type": "execute_result",
          "data": {
            "text/plain": [
              "<matplotlib.collections.PathCollection at 0x7f16ccf28310>"
            ]
          },
          "metadata": {},
          "execution_count": 66
        },
        {
          "output_type": "display_data",
          "data": {
            "text/plain": [
              "<Figure size 432x288 with 1 Axes>"
            ],
            "image/png": "[encoded data removed]"
          },
          "metadata": {
            "needs_background": "light"
          }
        }
      ]
    },
    {
      "cell_type": "code",
      "source": [
        "#dfInput['ETT']=pred"
      ],
      "metadata": {
        "id": "Ka2U-kZoTZMP"
      },
      "execution_count": null,
      "outputs": []
    },
    {
      "cell_type": "code",
      "source": [
        "#dfInput"
      ],
      "metadata": {
        "id": "C-cGeI22sgLY"
      },
      "execution_count": null,
      "outputs": []
    },
    {
      "cell_type": "code",
      "source": [
        "dfGroundTruth"
      ],
      "metadata": {
        "id": "CK9Vhkwuq69h",
        "colab": {
          "base_uri": "https://localhost:8080/",
          "height": 423
        },
        "outputId": "d8bcb775-4dbb-43fb-ef75-dcdb80471b95"
      },
      "execution_count": null,
      "outputs": [
        {
          "output_type": "execute_result",
          "data": {
            "text/plain": [
              "             TT\n",
              "0      2.833333\n",
              "1      1.500000\n",
              "2     21.250000\n",
              "3      2.000000\n",
              "4     35.733333\n",
              "...         ...\n",
              "1200  27.233333\n",
              "1201  26.750000\n",
              "1202  53.600000\n",
              "1203  59.616667\n",
              "1204  59.816667\n",
              "\n",
              "[1205 rows x 1 columns]"
            ],
            "text/html": [
              "\n",
              "  <div id=\"df-878e871b-53ae-423f-af8b-071912bbd738\">\n",
              "    <div class=\"colab-df-container\">\n",
              "      <div>\n",
              "<style scoped>\n",
              "    .dataframe tbody tr th:only-of-type {\n",
              "        vertical-align: middle;\n",
              "    }\n",
              "\n",
              "    .dataframe tbody tr th {\n",
              "        vertical-align: top;\n",
              "    }\n",
              "\n",
              "    .dataframe thead th {\n",
              "        text-align: right;\n",
              "    }\n",
              "</style>\n",
              "<table border=\"1\" class=\"dataframe\">\n",
              "  <thead>\n",
              "    <tr style=\"text-align: right;\">\n",
              "      <th></th>\n",
              "      <th>TT</th>\n",
              "    </tr>\n",
              "  </thead>\n",
              "  <tbody>\n",
              "    <tr>\n",
              "      <th>0</th>\n",
              "      <td>2.833333</td>\n",
              "    </tr>\n",
              "    <tr>\n",
              "      <th>1</th>\n",
              "      <td>1.500000</td>\n",
              "    </tr>\n",
              "    <tr>\n",
              "      <th>2</th>\n",
              "      <td>21.250000</td>\n",
              "    </tr>\n",
              "    <tr>\n",
              "      <th>3</th>\n",
              "      <td>2.000000</td>\n",
              "    </tr>\n",
              "    <tr>\n",
              "      <th>4</th>\n",
              "      <td>35.733333</td>\n",
              "    </tr>\n",
              "    <tr>\n",
              "      <th>...</th>\n",
              "      <td>...</td>\n",
              "    </tr>\n",
              "    <tr>\n",
              "      <th>1200</th>\n",
              "      <td>27.233333</td>\n",
              "    </tr>\n",
              "    <tr>\n",
              "      <th>1201</th>\n",
              "      <td>26.750000</td>\n",
              "    </tr>\n",
              "    <tr>\n",
              "      <th>1202</th>\n",
              "      <td>53.600000</td>\n",
              "    </tr>\n",
              "    <tr>\n",
              "      <th>1203</th>\n",
              "      <td>59.616667</td>\n",
              "    </tr>\n",
              "    <tr>\n",
              "      <th>1204</th>\n",
              "      <td>59.816667</td>\n",
              "    </tr>\n",
              "  </tbody>\n",
              "</table>\n",
              "<p>1205 rows × 1 columns</p>\n",
              "</div>\n",
              "      <button class=\"colab-df-convert\" onclick=\"convertToInteractive('df-878e871b-53ae-423f-af8b-071912bbd738')\"\n",
              "              title=\"Convert this dataframe to an interactive table.\"\n",
              "              style=\"display:none;\">\n",
              "        \n",
              "  <svg xmlns=\"http://www.w3.org/2000/svg\" height=\"24px\"viewBox=\"0 0 24 24\"\n",
              "       width=\"24px\">\n",
              "    <path d=\"M0 0h24v24H0V0z\" fill=\"none\"/>\n",
              "    <path d=\"M18.56 5.44l.94 2.06.94-2.06 2.06-.94-2.06-.94-.94-2.06-.94 2.06-2.06.94zm-11 1L8.5 8.5l.94-2.06 2.06-.94-2.06-.94L8.5 2.5l-.94 2.06-2.06.94zm10 10l.94 2.06.94-2.06 2.06-.94-2.06-.94-.94-2.06-.94 2.06-2.06.94z\"/><path d=\"M17.41 7.96l-1.37-1.37c-.4-.4-.92-.59-1.43-.59-.52 0-1.04.2-1.43.59L10.3 9.45l-7.72 7.72c-.78.78-.78 2.05 0 2.83L4 21.41c.39.39.9.59 1.41.59.51 0 1.02-.2 1.41-.59l7.78-7.78 2.81-2.81c.8-.78.8-2.07 0-2.86zM5.41 20L4 18.59l7.72-7.72 1.47 1.35L5.41 20z\"/>\n",
              "  </svg>\n",
              "      </button>\n",
              "      \n",
              "  <style>\n",
              "    .colab-df-container {\n",
              "      display:flex;\n",
              "      flex-wrap:wrap;\n",
              "      gap: 12px;\n",
              "    }\n",
              "\n",
              "    .colab-df-convert {\n",
              "      background-color: #E8F0FE;\n",
              "      border: none;\n",
              "      border-radius: 50%;\n",
              "      cursor: pointer;\n",
              "      display: none;\n",
              "      fill: #1967D2;\n",
              "      height: 32px;\n",
              "      padding: 0 0 0 0;\n",
              "      width: 32px;\n",
              "    }\n",
              "\n",
              "    .colab-df-convert:hover {\n",
              "      background-color: #E2EBFA;\n",
              "      box-shadow: 0px 1px 2px rgba(60, 64, 67, 0.3), 0px 1px 3px 1px rgba(60, 64, 67, 0.15);\n",
              "      fill: #174EA6;\n",
              "    }\n",
              "\n",
              "    [theme=dark] .colab-df-convert {\n",
              "      background-color: #3B4455;\n",
              "      fill: #D2E3FC;\n",
              "    }\n",
              "\n",
              "    [theme=dark] .colab-df-convert:hover {\n",
              "      background-color: #434B5C;\n",
              "      box-shadow: 0px 1px 3px 1px rgba(0, 0, 0, 0.15);\n",
              "      filter: drop-shadow(0px 1px 2px rgba(0, 0, 0, 0.3));\n",
              "      fill: #FFFFFF;\n",
              "    }\n",
              "  </style>\n",
              "\n",
              "      <script>\n",
              "        const buttonEl =\n",
              "          document.querySelector('#df-878e871b-53ae-423f-af8b-071912bbd738 button.colab-df-convert');\n",
              "        buttonEl.style.display =\n",
              "          google.colab.kernel.accessAllowed ? 'block' : 'none';\n",
              "\n",
              "        async function convertToInteractive(key) {\n",
              "          const element = document.querySelector('#df-878e871b-53ae-423f-af8b-071912bbd738');\n",
              "          const dataTable =\n",
              "            await google.colab.kernel.invokeFunction('convertToInteractive',\n",
              "                                                     [key], {});\n",
              "          if (!dataTable) return;\n",
              "\n",
              "          const docLinkHtml = 'Like what you see? Visit the ' +\n",
              "            '<a target=\"_blank\" href=https://colab.research.google.com/notebooks/data_table.ipynb>data table notebook</a>'\n",
              "            + ' to learn more about interactive tables.';\n",
              "          element.innerHTML = '';\n",
              "          dataTable['output_type'] = 'display_data';\n",
              "          await google.colab.output.renderOutput(dataTable, element);\n",
              "          const docLink = document.createElement('div');\n",
              "          docLink.innerHTML = docLinkHtml;\n",
              "          element.appendChild(docLink);\n",
              "        }\n",
              "      </script>\n",
              "    </div>\n",
              "  </div>\n",
              "  "
            ]
          },
          "metadata": {},
          "execution_count": 69
        }
      ]
    },
    {
      "cell_type": "markdown",
      "source": [
        "# For Evaluation\n",
        "function for evauation\n",
        "  2. Function arguments:\n",
        "    \n",
        "    a. df: It is a pandas dataframe that contains the data from BMTC.parquet.gzip\n",
        "   \n",
        "    b. dfInput: It is a pandas dataframe that contains the input from Input.csv\n",
        "\n",
        "3. Returns:\n",
        "\n",
        "    a. dfOutput: It is a pandas dataframe that contains the output\n"
      ],
      "metadata": {
        "id": "XLzoz2WNtPZ9"
      }
    },
    {
      "cell_type": "code",
      "source": [
        "def EstimatedTravelTime(df, dfInput): # The output of this function will be evaluated\n",
        "    # Function body - Begins\n",
        "    # Make changes here.  \n",
        "                              \n",
        "    dfOutput = pd.DataFrame()\n",
        "\n",
        "\n",
        "    # Function body - Ends\n",
        "    return dfOutput"
      ],
      "metadata": {
        "id": "P09_kbGatHJL"
      },
      "execution_count": null,
      "outputs": []
    },
    {
      "cell_type": "code",
      "source": [
        "dfOutput = EstimatedTravelTime(df, dfInput)"
      ],
      "metadata": {
        "id": "ZEPtfj5StN9r"
      },
      "execution_count": null,
      "outputs": []
    },
    {
      "cell_type": "code",
      "source": [
        "bus_df= pd.read_parquet('/content/drive/MyDrive/Data/BMTC.parquet.gzip', engine='pyarrow')\n",
        "# bus_df=bus_df.drop([\"BusID\",\"Speed\"],axis=1)\n",
        "# source=bus_df.sample(n=400,replace=True,random_state=1)\n",
        "\n",
        "# source.rename(columns = {'Latitude':'Source_Lat',\"Longitude\":\"Source_Long\",\"Timestamp\":\"t1\"}, inplace = True)\n",
        "# source.reset_index(inplace = True)\n",
        "# destination=bus_df.sample(n=400,random_state=2)\n",
        "# destination.reset_index(inplace = True)\n",
        "# destination.rename(columns = {'Latitude':'Dest_Lat',\"Longitude\":\"Dest_Long\",\"Timestamp\":\"t2\"}, inplace = True)\n",
        "# merge_df=pd.concat([source,destination],axis=1)\n",
        "#merge_df=pd.merge(source,destination,axis=1,)"
      ],
      "metadata": {
        "id": "sC5Ez0BlvroL"
      },
      "execution_count": null,
      "outputs": []
    },
    {
      "cell_type": "code",
      "source": [
        "#bus_df=bus_df.groupby('BusID')"
      ],
      "metadata": {
        "id": "wW18W3uYHAO_"
      },
      "execution_count": null,
      "outputs": []
    },
    {
      "cell_type": "code",
      "source": [
        "# merge_df.columns\n",
        "# merge_df[\"Distance\"]=haversine(merge_df['Dest_Long'],merge_df['Dest_Lat'],merge_df['Source_Long'],merge_df['Source_Lat'])\n",
        "# time=merge_df\n",
        "# merge_df[\"Duration\"]="
      ],
      "metadata": {
        "id": "scqnniFczqMI"
      },
      "execution_count": null,
      "outputs": []
    },
    {
      "cell_type": "code",
      "source": [
        "bus_df.drop(\"Speed\",axis=1,inplace=True)"
      ],
      "metadata": {
        "id": "EraEOYu6HaXI"
      },
      "execution_count": null,
      "outputs": []
    },
    {
      "cell_type": "code",
      "source": [
        "\n",
        "bus_df=bus_df.groupby('BusID').apply(lambda x: x.sample(2)).reset_index(drop=True)\n",
        "\n",
        "bus_df.rename(columns = {'Latitude':'Source_Lat', 'Longitude':'Source_Long',\"Timestamp\":\"t1\"}, inplace = True) \n",
        "\n",
        "shifted_df=bus_df.shift(1)\n",
        "shifted_df.rename(columns = {'Source_Lat':'Dest_Lat', 'Source_Long':'Dest_Long',\"t1\":\"t2\"}, inplace = True)\n",
        "final_df=pd.concat([bus_df,shifted_df], axis=1)\n"
      ],
      "metadata": {
        "id": "TTQpinCECks7"
      },
      "execution_count": null,
      "outputs": []
    },
    {
      "cell_type": "code",
      "source": [
        "final_df=final_df.iloc[1::2].reset_index()"
      ],
      "metadata": {
        "id": "qsS92IGSLb6a"
      },
      "execution_count": null,
      "outputs": []
    },
    {
      "cell_type": "code",
      "source": [
        "\n",
        "time=abs(final_df[\"t2\"]-final_df[\"t1\"])\n",
        "\n",
        "final_df[\"Distance\"]=haversine(final_df['Dest_Long'],final_df['Dest_Lat'],final_df['Source_Long'],final_df['Source_Lat'])\n",
        "final_df[\"Duration\"]=time.apply(lambda x: x.seconds/60)"
      ],
      "metadata": {
        "id": "CouUJ1YZGFXE"
      },
      "execution_count": null,
      "outputs": []
    },
    {
      "cell_type": "code",
      "source": [
        "test_df=final_df.drop(columns=[\"index\",\"BusID\",\"t1\",\"BusID\",\"t2\"])"
      ],
      "metadata": {
        "id": "oPgHdu_1JUtX"
      },
      "execution_count": null,
      "outputs": []
    },
    {
      "cell_type": "code",
      "source": [
        "final_df"
      ],
      "metadata": {
        "id": "NI6AMZzHLP_-",
        "colab": {
          "base_uri": "https://localhost:8080/",
          "height": 423
        },
        "outputId": "50c86884-96a1-4cef-8b63-16b3b9b7f005"
      },
      "execution_count": null,
      "outputs": [
        {
          "output_type": "execute_result",
          "data": {
            "text/plain": [
              "      index      BusID  Source_Lat  Source_Long                  t1  \\\n",
              "0         1  150212121   13.003543    77.571342 2019-08-01 13:55:13   \n",
              "1         3  150218000   12.996608    77.669151 2019-08-01 11:59:00   \n",
              "2         5  150218006   12.999258    77.584007 2019-08-01 09:14:37   \n",
              "3         7  150218010   12.921819    77.660797 2019-08-01 17:26:06   \n",
              "4         9  150218014   13.002195    77.683495 2019-08-01 14:32:48   \n",
              "...     ...        ...         ...          ...                 ...   \n",
              "1937   3875  150813386   13.081468    77.559685 2019-08-01 08:08:39   \n",
              "1938   3877  150813387   12.933600    77.689072 2019-08-01 15:53:48   \n",
              "1939   3879  150813389   13.006970    77.662727 2019-08-01 10:44:53   \n",
              "1940   3881  150813393   12.938225    77.492752 2019-08-01 16:47:57   \n",
              "1941   3883  150813395   13.094428    77.582733 2019-08-01 17:45:08   \n",
              "\n",
              "            BusID   Dest_Lat  Dest_Long                  t2   Distance  \\\n",
              "0     150212121.0  12.977712  77.573898 2019-08-01 16:02:27   2.885596   \n",
              "1     150218000.0  13.006678  77.688255 2019-08-01 18:55:27   2.353277   \n",
              "2     150218006.0  12.972501  77.538223 2019-08-01 18:50:18   5.784558   \n",
              "3     150218010.0  12.916267  77.635857 2019-08-01 17:19:27   2.772608   \n",
              "4     150218014.0  12.967098  77.702232 2019-08-01 17:03:22   4.399092   \n",
              "...           ...        ...        ...                 ...        ...   \n",
              "1937  150813386.0  12.977438  77.572205 2019-08-01 09:23:41  11.646852   \n",
              "1938  150813387.0  12.922886  77.670105 2019-08-01 16:55:56   2.375852   \n",
              "1939  150813389.0  12.916601  77.604019 2019-08-01 18:34:26  11.893066   \n",
              "1940  150813393.0  13.084155  77.549728 2019-08-01 08:04:57  17.361114   \n",
              "1941  150813395.0  12.921704  77.484154 2019-08-01 15:30:59  21.975854   \n",
              "\n",
              "        Duration  \n",
              "0     127.233333  \n",
              "1     416.450000  \n",
              "2     575.683333  \n",
              "3       6.650000  \n",
              "4     150.566667  \n",
              "...          ...  \n",
              "1937   75.033333  \n",
              "1938   62.133333  \n",
              "1939  469.550000  \n",
              "1940  523.000000  \n",
              "1941  134.150000  \n",
              "\n",
              "[1942 rows x 11 columns]"
            ],
            "text/html": [
              "\n",
              "  <div id=\"df-c24e0fa4-9321-43e6-bf70-1420ea32a1c4\">\n",
              "    <div class=\"colab-df-container\">\n",
              "      <div>\n",
              "<style scoped>\n",
              "    .dataframe tbody tr th:only-of-type {\n",
              "        vertical-align: middle;\n",
              "    }\n",
              "\n",
              "    .dataframe tbody tr th {\n",
              "        vertical-align: top;\n",
              "    }\n",
              "\n",
              "    .dataframe thead th {\n",
              "        text-align: right;\n",
              "    }\n",
              "</style>\n",
              "<table border=\"1\" class=\"dataframe\">\n",
              "  <thead>\n",
              "    <tr style=\"text-align: right;\">\n",
              "      <th></th>\n",
              "      <th>index</th>\n",
              "      <th>BusID</th>\n",
              "      <th>Source_Lat</th>\n",
              "      <th>Source_Long</th>\n",
              "      <th>t1</th>\n",
              "      <th>BusID</th>\n",
              "      <th>Dest_Lat</th>\n",
              "      <th>Dest_Long</th>\n",
              "      <th>t2</th>\n",
              "      <th>Distance</th>\n",
              "      <th>Duration</th>\n",
              "    </tr>\n",
              "  </thead>\n",
              "  <tbody>\n",
              "    <tr>\n",
              "      <th>0</th>\n",
              "      <td>1</td>\n",
              "      <td>150212121</td>\n",
              "      <td>13.003543</td>\n",
              "      <td>77.571342</td>\n",
              "      <td>2019-08-01 13:55:13</td>\n",
              "      <td>150212121.0</td>\n",
              "      <td>12.977712</td>\n",
              "      <td>77.573898</td>\n",
              "      <td>2019-08-01 16:02:27</td>\n",
              "      <td>2.885596</td>\n",
              "      <td>127.233333</td>\n",
              "    </tr>\n",
              "    <tr>\n",
              "      <th>1</th>\n",
              "      <td>3</td>\n",
              "      <td>150218000</td>\n",
              "      <td>12.996608</td>\n",
              "      <td>77.669151</td>\n",
              "      <td>2019-08-01 11:59:00</td>\n",
              "      <td>150218000.0</td>\n",
              "      <td>13.006678</td>\n",
              "      <td>77.688255</td>\n",
              "      <td>2019-08-01 18:55:27</td>\n",
              "      <td>2.353277</td>\n",
              "      <td>416.450000</td>\n",
              "    </tr>\n",
              "    <tr>\n",
              "      <th>2</th>\n",
              "      <td>5</td>\n",
              "      <td>150218006</td>\n",
              "      <td>12.999258</td>\n",
              "      <td>77.584007</td>\n",
              "      <td>2019-08-01 09:14:37</td>\n",
              "      <td>150218006.0</td>\n",
              "      <td>12.972501</td>\n",
              "      <td>77.538223</td>\n",
              "      <td>2019-08-01 18:50:18</td>\n",
              "      <td>5.784558</td>\n",
              "      <td>575.683333</td>\n",
              "    </tr>\n",
              "    <tr>\n",
              "      <th>3</th>\n",
              "      <td>7</td>\n",
              "      <td>150218010</td>\n",
              "      <td>12.921819</td>\n",
              "      <td>77.660797</td>\n",
              "      <td>2019-08-01 17:26:06</td>\n",
              "      <td>150218010.0</td>\n",
              "      <td>12.916267</td>\n",
              "      <td>77.635857</td>\n",
              "      <td>2019-08-01 17:19:27</td>\n",
              "      <td>2.772608</td>\n",
              "      <td>6.650000</td>\n",
              "    </tr>\n",
              "    <tr>\n",
              "      <th>4</th>\n",
              "      <td>9</td>\n",
              "      <td>150218014</td>\n",
              "      <td>13.002195</td>\n",
              "      <td>77.683495</td>\n",
              "      <td>2019-08-01 14:32:48</td>\n",
              "      <td>150218014.0</td>\n",
              "      <td>12.967098</td>\n",
              "      <td>77.702232</td>\n",
              "      <td>2019-08-01 17:03:22</td>\n",
              "      <td>4.399092</td>\n",
              "      <td>150.566667</td>\n",
              "    </tr>\n",
              "    <tr>\n",
              "      <th>...</th>\n",
              "      <td>...</td>\n",
              "      <td>...</td>\n",
              "      <td>...</td>\n",
              "      <td>...</td>\n",
              "      <td>...</td>\n",
              "      <td>...</td>\n",
              "      <td>...</td>\n",
              "      <td>...</td>\n",
              "      <td>...</td>\n",
              "      <td>...</td>\n",
              "      <td>...</td>\n",
              "    </tr>\n",
              "    <tr>\n",
              "      <th>1937</th>\n",
              "      <td>3875</td>\n",
              "      <td>150813386</td>\n",
              "      <td>13.081468</td>\n",
              "      <td>77.559685</td>\n",
              "      <td>2019-08-01 08:08:39</td>\n",
              "      <td>150813386.0</td>\n",
              "      <td>12.977438</td>\n",
              "      <td>77.572205</td>\n",
              "      <td>2019-08-01 09:23:41</td>\n",
              "      <td>11.646852</td>\n",
              "      <td>75.033333</td>\n",
              "    </tr>\n",
              "    <tr>\n",
              "      <th>1938</th>\n",
              "      <td>3877</td>\n",
              "      <td>150813387</td>\n",
              "      <td>12.933600</td>\n",
              "      <td>77.689072</td>\n",
              "      <td>2019-08-01 15:53:48</td>\n",
              "      <td>150813387.0</td>\n",
              "      <td>12.922886</td>\n",
              "      <td>77.670105</td>\n",
              "      <td>2019-08-01 16:55:56</td>\n",
              "      <td>2.375852</td>\n",
              "      <td>62.133333</td>\n",
              "    </tr>\n",
              "    <tr>\n",
              "      <th>1939</th>\n",
              "      <td>3879</td>\n",
              "      <td>150813389</td>\n",
              "      <td>13.006970</td>\n",
              "      <td>77.662727</td>\n",
              "      <td>2019-08-01 10:44:53</td>\n",
              "      <td>150813389.0</td>\n",
              "      <td>12.916601</td>\n",
              "      <td>77.604019</td>\n",
              "      <td>2019-08-01 18:34:26</td>\n",
              "      <td>11.893066</td>\n",
              "      <td>469.550000</td>\n",
              "    </tr>\n",
              "    <tr>\n",
              "      <th>1940</th>\n",
              "      <td>3881</td>\n",
              "      <td>150813393</td>\n",
              "      <td>12.938225</td>\n",
              "      <td>77.492752</td>\n",
              "      <td>2019-08-01 16:47:57</td>\n",
              "      <td>150813393.0</td>\n",
              "      <td>13.084155</td>\n",
              "      <td>77.549728</td>\n",
              "      <td>2019-08-01 08:04:57</td>\n",
              "      <td>17.361114</td>\n",
              "      <td>523.000000</td>\n",
              "    </tr>\n",
              "    <tr>\n",
              "      <th>1941</th>\n",
              "      <td>3883</td>\n",
              "      <td>150813395</td>\n",
              "      <td>13.094428</td>\n",
              "      <td>77.582733</td>\n",
              "      <td>2019-08-01 17:45:08</td>\n",
              "      <td>150813395.0</td>\n",
              "      <td>12.921704</td>\n",
              "      <td>77.484154</td>\n",
              "      <td>2019-08-01 15:30:59</td>\n",
              "      <td>21.975854</td>\n",
              "      <td>134.150000</td>\n",
              "    </tr>\n",
              "  </tbody>\n",
              "</table>\n",
              "<p>1942 rows × 11 columns</p>\n",
              "</div>\n",
              "      <button class=\"colab-df-convert\" onclick=\"convertToInteractive('df-c24e0fa4-9321-43e6-bf70-1420ea32a1c4')\"\n",
              "              title=\"Convert this dataframe to an interactive table.\"\n",
              "              style=\"display:none;\">\n",
              "        \n",
              "  <svg xmlns=\"http://www.w3.org/2000/svg\" height=\"24px\"viewBox=\"0 0 24 24\"\n",
              "       width=\"24px\">\n",
              "    <path d=\"M0 0h24v24H0V0z\" fill=\"none\"/>\n",
              "    <path d=\"M18.56 5.44l.94 2.06.94-2.06 2.06-.94-2.06-.94-.94-2.06-.94 2.06-2.06.94zm-11 1L8.5 8.5l.94-2.06 2.06-.94-2.06-.94L8.5 2.5l-.94 2.06-2.06.94zm10 10l.94 2.06.94-2.06 2.06-.94-2.06-.94-.94-2.06-.94 2.06-2.06.94z\"/><path d=\"M17.41 7.96l-1.37-1.37c-.4-.4-.92-.59-1.43-.59-.52 0-1.04.2-1.43.59L10.3 9.45l-7.72 7.72c-.78.78-.78 2.05 0 2.83L4 21.41c.39.39.9.59 1.41.59.51 0 1.02-.2 1.41-.59l7.78-7.78 2.81-2.81c.8-.78.8-2.07 0-2.86zM5.41 20L4 18.59l7.72-7.72 1.47 1.35L5.41 20z\"/>\n",
              "  </svg>\n",
              "      </button>\n",
              "      \n",
              "  <style>\n",
              "    .colab-df-container {\n",
              "      display:flex;\n",
              "      flex-wrap:wrap;\n",
              "      gap: 12px;\n",
              "    }\n",
              "\n",
              "    .colab-df-convert {\n",
              "      background-color: #E8F0FE;\n",
              "      border: none;\n",
              "      border-radius: 50%;\n",
              "      cursor: pointer;\n",
              "      display: none;\n",
              "      fill: #1967D2;\n",
              "      height: 32px;\n",
              "      padding: 0 0 0 0;\n",
              "      width: 32px;\n",
              "    }\n",
              "\n",
              "    .colab-df-convert:hover {\n",
              "      background-color: #E2EBFA;\n",
              "      box-shadow: 0px 1px 2px rgba(60, 64, 67, 0.3), 0px 1px 3px 1px rgba(60, 64, 67, 0.15);\n",
              "      fill: #174EA6;\n",
              "    }\n",
              "\n",
              "    [theme=dark] .colab-df-convert {\n",
              "      background-color: #3B4455;\n",
              "      fill: #D2E3FC;\n",
              "    }\n",
              "\n",
              "    [theme=dark] .colab-df-convert:hover {\n",
              "      background-color: #434B5C;\n",
              "      box-shadow: 0px 1px 3px 1px rgba(0, 0, 0, 0.15);\n",
              "      filter: drop-shadow(0px 1px 2px rgba(0, 0, 0, 0.3));\n",
              "      fill: #FFFFFF;\n",
              "    }\n",
              "  </style>\n",
              "\n",
              "      <script>\n",
              "        const buttonEl =\n",
              "          document.querySelector('#df-c24e0fa4-9321-43e6-bf70-1420ea32a1c4 button.colab-df-convert');\n",
              "        buttonEl.style.display =\n",
              "          google.colab.kernel.accessAllowed ? 'block' : 'none';\n",
              "\n",
              "        async function convertToInteractive(key) {\n",
              "          const element = document.querySelector('#df-c24e0fa4-9321-43e6-bf70-1420ea32a1c4');\n",
              "          const dataTable =\n",
              "            await google.colab.kernel.invokeFunction('convertToInteractive',\n",
              "                                                     [key], {});\n",
              "          if (!dataTable) return;\n",
              "\n",
              "          const docLinkHtml = 'Like what you see? Visit the ' +\n",
              "            '<a target=\"_blank\" href=https://colab.research.google.com/notebooks/data_table.ipynb>data table notebook</a>'\n",
              "            + ' to learn more about interactive tables.';\n",
              "          element.innerHTML = '';\n",
              "          dataTable['output_type'] = 'display_data';\n",
              "          await google.colab.output.renderOutput(dataTable, element);\n",
              "          const docLink = document.createElement('div');\n",
              "          docLink.innerHTML = docLinkHtml;\n",
              "          element.appendChild(docLink);\n",
              "        }\n",
              "      </script>\n",
              "    </div>\n",
              "  </div>\n",
              "  "
            ]
          },
          "metadata": {},
          "execution_count": 80
        }
      ]
    },
    {
      "cell_type": "code",
      "source": [
        "test_df"
      ],
      "metadata": {
        "id": "GPuw3a8pH7B1",
        "colab": {
          "base_uri": "https://localhost:8080/",
          "height": 423
        },
        "outputId": "3b1d5372-7691-48dd-dfd3-ea363aed4d9c"
      },
      "execution_count": null,
      "outputs": [
        {
          "output_type": "execute_result",
          "data": {
            "text/plain": [
              "      Source_Lat  Source_Long   Dest_Lat  Dest_Long   Distance    Duration\n",
              "0      13.003543    77.571342  12.977712  77.573898   2.885596  127.233333\n",
              "1      12.996608    77.669151  13.006678  77.688255   2.353277  416.450000\n",
              "2      12.999258    77.584007  12.972501  77.538223   5.784558  575.683333\n",
              "3      12.921819    77.660797  12.916267  77.635857   2.772608    6.650000\n",
              "4      13.002195    77.683495  12.967098  77.702232   4.399092  150.566667\n",
              "...          ...          ...        ...        ...        ...         ...\n",
              "1937   13.081468    77.559685  12.977438  77.572205  11.646852   75.033333\n",
              "1938   12.933600    77.689072  12.922886  77.670105   2.375852   62.133333\n",
              "1939   13.006970    77.662727  12.916601  77.604019  11.893066  469.550000\n",
              "1940   12.938225    77.492752  13.084155  77.549728  17.361114  523.000000\n",
              "1941   13.094428    77.582733  12.921704  77.484154  21.975854  134.150000\n",
              "\n",
              "[1942 rows x 6 columns]"
            ],
            "text/html": [
              "\n",
              "  <div id=\"df-d092261e-d915-459e-a157-abf2c68c2b46\">\n",
              "    <div class=\"colab-df-container\">\n",
              "      <div>\n",
              "<style scoped>\n",
              "    .dataframe tbody tr th:only-of-type {\n",
              "        vertical-align: middle;\n",
              "    }\n",
              "\n",
              "    .dataframe tbody tr th {\n",
              "        vertical-align: top;\n",
              "    }\n",
              "\n",
              "    .dataframe thead th {\n",
              "        text-align: right;\n",
              "    }\n",
              "</style>\n",
              "<table border=\"1\" class=\"dataframe\">\n",
              "  <thead>\n",
              "    <tr style=\"text-align: right;\">\n",
              "      <th></th>\n",
              "      <th>Source_Lat</th>\n",
              "      <th>Source_Long</th>\n",
              "      <th>Dest_Lat</th>\n",
              "      <th>Dest_Long</th>\n",
              "      <th>Distance</th>\n",
              "      <th>Duration</th>\n",
              "    </tr>\n",
              "  </thead>\n",
              "  <tbody>\n",
              "    <tr>\n",
              "      <th>0</th>\n",
              "      <td>13.003543</td>\n",
              "      <td>77.571342</td>\n",
              "      <td>12.977712</td>\n",
              "      <td>77.573898</td>\n",
              "      <td>2.885596</td>\n",
              "      <td>127.233333</td>\n",
              "    </tr>\n",
              "    <tr>\n",
              "      <th>1</th>\n",
              "      <td>12.996608</td>\n",
              "      <td>77.669151</td>\n",
              "      <td>13.006678</td>\n",
              "      <td>77.688255</td>\n",
              "      <td>2.353277</td>\n",
              "      <td>416.450000</td>\n",
              "    </tr>\n",
              "    <tr>\n",
              "      <th>2</th>\n",
              "      <td>12.999258</td>\n",
              "      <td>77.584007</td>\n",
              "      <td>12.972501</td>\n",
              "      <td>77.538223</td>\n",
              "      <td>5.784558</td>\n",
              "      <td>575.683333</td>\n",
              "    </tr>\n",
              "    <tr>\n",
              "      <th>3</th>\n",
              "      <td>12.921819</td>\n",
              "      <td>77.660797</td>\n",
              "      <td>12.916267</td>\n",
              "      <td>77.635857</td>\n",
              "      <td>2.772608</td>\n",
              "      <td>6.650000</td>\n",
              "    </tr>\n",
              "    <tr>\n",
              "      <th>4</th>\n",
              "      <td>13.002195</td>\n",
              "      <td>77.683495</td>\n",
              "      <td>12.967098</td>\n",
              "      <td>77.702232</td>\n",
              "      <td>4.399092</td>\n",
              "      <td>150.566667</td>\n",
              "    </tr>\n",
              "    <tr>\n",
              "      <th>...</th>\n",
              "      <td>...</td>\n",
              "      <td>...</td>\n",
              "      <td>...</td>\n",
              "      <td>...</td>\n",
              "      <td>...</td>\n",
              "      <td>...</td>\n",
              "    </tr>\n",
              "    <tr>\n",
              "      <th>1937</th>\n",
              "      <td>13.081468</td>\n",
              "      <td>77.559685</td>\n",
              "      <td>12.977438</td>\n",
              "      <td>77.572205</td>\n",
              "      <td>11.646852</td>\n",
              "      <td>75.033333</td>\n",
              "    </tr>\n",
              "    <tr>\n",
              "      <th>1938</th>\n",
              "      <td>12.933600</td>\n",
              "      <td>77.689072</td>\n",
              "      <td>12.922886</td>\n",
              "      <td>77.670105</td>\n",
              "      <td>2.375852</td>\n",
              "      <td>62.133333</td>\n",
              "    </tr>\n",
              "    <tr>\n",
              "      <th>1939</th>\n",
              "      <td>13.006970</td>\n",
              "      <td>77.662727</td>\n",
              "      <td>12.916601</td>\n",
              "      <td>77.604019</td>\n",
              "      <td>11.893066</td>\n",
              "      <td>469.550000</td>\n",
              "    </tr>\n",
              "    <tr>\n",
              "      <th>1940</th>\n",
              "      <td>12.938225</td>\n",
              "      <td>77.492752</td>\n",
              "      <td>13.084155</td>\n",
              "      <td>77.549728</td>\n",
              "      <td>17.361114</td>\n",
              "      <td>523.000000</td>\n",
              "    </tr>\n",
              "    <tr>\n",
              "      <th>1941</th>\n",
              "      <td>13.094428</td>\n",
              "      <td>77.582733</td>\n",
              "      <td>12.921704</td>\n",
              "      <td>77.484154</td>\n",
              "      <td>21.975854</td>\n",
              "      <td>134.150000</td>\n",
              "    </tr>\n",
              "  </tbody>\n",
              "</table>\n",
              "<p>1942 rows × 6 columns</p>\n",
              "</div>\n",
              "      <button class=\"colab-df-convert\" onclick=\"convertToInteractive('df-d092261e-d915-459e-a157-abf2c68c2b46')\"\n",
              "              title=\"Convert this dataframe to an interactive table.\"\n",
              "              style=\"display:none;\">\n",
              "        \n",
              "  <svg xmlns=\"http://www.w3.org/2000/svg\" height=\"24px\"viewBox=\"0 0 24 24\"\n",
              "       width=\"24px\">\n",
              "    <path d=\"M0 0h24v24H0V0z\" fill=\"none\"/>\n",
              "    <path d=\"M18.56 5.44l.94 2.06.94-2.06 2.06-.94-2.06-.94-.94-2.06-.94 2.06-2.06.94zm-11 1L8.5 8.5l.94-2.06 2.06-.94-2.06-.94L8.5 2.5l-.94 2.06-2.06.94zm10 10l.94 2.06.94-2.06 2.06-.94-2.06-.94-.94-2.06-.94 2.06-2.06.94z\"/><path d=\"M17.41 7.96l-1.37-1.37c-.4-.4-.92-.59-1.43-.59-.52 0-1.04.2-1.43.59L10.3 9.45l-7.72 7.72c-.78.78-.78 2.05 0 2.83L4 21.41c.39.39.9.59 1.41.59.51 0 1.02-.2 1.41-.59l7.78-7.78 2.81-2.81c.8-.78.8-2.07 0-2.86zM5.41 20L4 18.59l7.72-7.72 1.47 1.35L5.41 20z\"/>\n",
              "  </svg>\n",
              "      </button>\n",
              "      \n",
              "  <style>\n",
              "    .colab-df-container {\n",
              "      display:flex;\n",
              "      flex-wrap:wrap;\n",
              "      gap: 12px;\n",
              "    }\n",
              "\n",
              "    .colab-df-convert {\n",
              "      background-color: #E8F0FE;\n",
              "      border: none;\n",
              "      border-radius: 50%;\n",
              "      cursor: pointer;\n",
              "      display: none;\n",
              "      fill: #1967D2;\n",
              "      height: 32px;\n",
              "      padding: 0 0 0 0;\n",
              "      width: 32px;\n",
              "    }\n",
              "\n",
              "    .colab-df-convert:hover {\n",
              "      background-color: #E2EBFA;\n",
              "      box-shadow: 0px 1px 2px rgba(60, 64, 67, 0.3), 0px 1px 3px 1px rgba(60, 64, 67, 0.15);\n",
              "      fill: #174EA6;\n",
              "    }\n",
              "\n",
              "    [theme=dark] .colab-df-convert {\n",
              "      background-color: #3B4455;\n",
              "      fill: #D2E3FC;\n",
              "    }\n",
              "\n",
              "    [theme=dark] .colab-df-convert:hover {\n",
              "      background-color: #434B5C;\n",
              "      box-shadow: 0px 1px 3px 1px rgba(0, 0, 0, 0.15);\n",
              "      filter: drop-shadow(0px 1px 2px rgba(0, 0, 0, 0.3));\n",
              "      fill: #FFFFFF;\n",
              "    }\n",
              "  </style>\n",
              "\n",
              "      <script>\n",
              "        const buttonEl =\n",
              "          document.querySelector('#df-d092261e-d915-459e-a157-abf2c68c2b46 button.colab-df-convert');\n",
              "        buttonEl.style.display =\n",
              "          google.colab.kernel.accessAllowed ? 'block' : 'none';\n",
              "\n",
              "        async function convertToInteractive(key) {\n",
              "          const element = document.querySelector('#df-d092261e-d915-459e-a157-abf2c68c2b46');\n",
              "          const dataTable =\n",
              "            await google.colab.kernel.invokeFunction('convertToInteractive',\n",
              "                                                     [key], {});\n",
              "          if (!dataTable) return;\n",
              "\n",
              "          const docLinkHtml = 'Like what you see? Visit the ' +\n",
              "            '<a target=\"_blank\" href=https://colab.research.google.com/notebooks/data_table.ipynb>data table notebook</a>'\n",
              "            + ' to learn more about interactive tables.';\n",
              "          element.innerHTML = '';\n",
              "          dataTable['output_type'] = 'display_data';\n",
              "          await google.colab.output.renderOutput(dataTable, element);\n",
              "          const docLink = document.createElement('div');\n",
              "          docLink.innerHTML = docLinkHtml;\n",
              "          element.appendChild(docLink);\n",
              "        }\n",
              "      </script>\n",
              "    </div>\n",
              "  </div>\n",
              "  "
            ]
          },
          "metadata": {},
          "execution_count": 81
        }
      ]
    },
    {
      "cell_type": "code",
      "source": [
        "test_df[\"speed\"]=test_df[\"Distance\"]/test_df[\"Duration\"] #speed in km/min"
      ],
      "metadata": {
        "id": "yJk6pFx_J_Bb",
        "colab": {
          "base_uri": "https://localhost:8080/"
        },
        "outputId": "ad5e978d-dd3c-4ba5-e477-41ccf0da8fd1"
      },
      "execution_count": null,
      "outputs": [
        {
          "output_type": "stream",
          "name": "stderr",
          "text": [
            "<ipython-input-82-c74f06d3e833>:1: SettingWithCopyWarning: \n",
            "A value is trying to be set on a copy of a slice from a DataFrame.\n",
            "Try using .loc[row_indexer,col_indexer] = value instead\n",
            "\n",
            "See the caveats in the documentation: https://pandas.pydata.org/pandas-docs/stable/user_guide/indexing.html#returning-a-view-versus-a-copy\n",
            "  test_df[\"speed\"]=test_df[\"Distance\"]/test_df[\"Duration\"] #speed in km/min\n"
          ]
        }
      ]
    },
    {
      "cell_type": "code",
      "source": [
        "test_df"
      ],
      "metadata": {
        "id": "9OhTWIG3KQLF",
        "colab": {
          "base_uri": "https://localhost:8080/",
          "height": 423
        },
        "outputId": "7cf2f5d5-4bf4-40bc-86fa-bc4d40fab617"
      },
      "execution_count": null,
      "outputs": [
        {
          "output_type": "execute_result",
          "data": {
            "text/plain": [
              "      Source_Lat  Source_Long   Dest_Lat  Dest_Long   Distance    Duration  \\\n",
              "0      13.003543    77.571342  12.977712  77.573898   2.885596  127.233333   \n",
              "1      12.996608    77.669151  13.006678  77.688255   2.353277  416.450000   \n",
              "2      12.999258    77.584007  12.972501  77.538223   5.784558  575.683333   \n",
              "3      12.921819    77.660797  12.916267  77.635857   2.772608    6.650000   \n",
              "4      13.002195    77.683495  12.967098  77.702232   4.399092  150.566667   \n",
              "...          ...          ...        ...        ...        ...         ...   \n",
              "1937   13.081468    77.559685  12.977438  77.572205  11.646852   75.033333   \n",
              "1938   12.933600    77.689072  12.922886  77.670105   2.375852   62.133333   \n",
              "1939   13.006970    77.662727  12.916601  77.604019  11.893066  469.550000   \n",
              "1940   12.938225    77.492752  13.084155  77.549728  17.361114  523.000000   \n",
              "1941   13.094428    77.582733  12.921704  77.484154  21.975854  134.150000   \n",
              "\n",
              "         speed  \n",
              "0     0.022680  \n",
              "1     0.005651  \n",
              "2     0.010048  \n",
              "3     0.416933  \n",
              "4     0.029217  \n",
              "...        ...  \n",
              "1937  0.155222  \n",
              "1938  0.038238  \n",
              "1939  0.025329  \n",
              "1940  0.033195  \n",
              "1941  0.163816  \n",
              "\n",
              "[1942 rows x 7 columns]"
            ],
            "text/html": [
              "\n",
              "  <div id=\"df-2d5e1759-b10c-4a17-aa38-6e8c3f073b25\">\n",
              "    <div class=\"colab-df-container\">\n",
              "      <div>\n",
              "<style scoped>\n",
              "    .dataframe tbody tr th:only-of-type {\n",
              "        vertical-align: middle;\n",
              "    }\n",
              "\n",
              "    .dataframe tbody tr th {\n",
              "        vertical-align: top;\n",
              "    }\n",
              "\n",
              "    .dataframe thead th {\n",
              "        text-align: right;\n",
              "    }\n",
              "</style>\n",
              "<table border=\"1\" class=\"dataframe\">\n",
              "  <thead>\n",
              "    <tr style=\"text-align: right;\">\n",
              "      <th></th>\n",
              "      <th>Source_Lat</th>\n",
              "      <th>Source_Long</th>\n",
              "      <th>Dest_Lat</th>\n",
              "      <th>Dest_Long</th>\n",
              "      <th>Distance</th>\n",
              "      <th>Duration</th>\n",
              "      <th>speed</th>\n",
              "    </tr>\n",
              "  </thead>\n",
              "  <tbody>\n",
              "    <tr>\n",
              "      <th>0</th>\n",
              "      <td>13.003543</td>\n",
              "      <td>77.571342</td>\n",
              "      <td>12.977712</td>\n",
              "      <td>77.573898</td>\n",
              "      <td>2.885596</td>\n",
              "      <td>127.233333</td>\n",
              "      <td>0.022680</td>\n",
              "    </tr>\n",
              "    <tr>\n",
              "      <th>1</th>\n",
              "      <td>12.996608</td>\n",
              "      <td>77.669151</td>\n",
              "      <td>13.006678</td>\n",
              "      <td>77.688255</td>\n",
              "      <td>2.353277</td>\n",
              "      <td>416.450000</td>\n",
              "      <td>0.005651</td>\n",
              "    </tr>\n",
              "    <tr>\n",
              "      <th>2</th>\n",
              "      <td>12.999258</td>\n",
              "      <td>77.584007</td>\n",
              "      <td>12.972501</td>\n",
              "      <td>77.538223</td>\n",
              "      <td>5.784558</td>\n",
              "      <td>575.683333</td>\n",
              "      <td>0.010048</td>\n",
              "    </tr>\n",
              "    <tr>\n",
              "      <th>3</th>\n",
              "      <td>12.921819</td>\n",
              "      <td>77.660797</td>\n",
              "      <td>12.916267</td>\n",
              "      <td>77.635857</td>\n",
              "      <td>2.772608</td>\n",
              "      <td>6.650000</td>\n",
              "      <td>0.416933</td>\n",
              "    </tr>\n",
              "    <tr>\n",
              "      <th>4</th>\n",
              "      <td>13.002195</td>\n",
              "      <td>77.683495</td>\n",
              "      <td>12.967098</td>\n",
              "      <td>77.702232</td>\n",
              "      <td>4.399092</td>\n",
              "      <td>150.566667</td>\n",
              "      <td>0.029217</td>\n",
              "    </tr>\n",
              "    <tr>\n",
              "      <th>...</th>\n",
              "      <td>...</td>\n",
              "      <td>...</td>\n",
              "      <td>...</td>\n",
              "      <td>...</td>\n",
              "      <td>...</td>\n",
              "      <td>...</td>\n",
              "      <td>...</td>\n",
              "    </tr>\n",
              "    <tr>\n",
              "      <th>1937</th>\n",
              "      <td>13.081468</td>\n",
              "      <td>77.559685</td>\n",
              "      <td>12.977438</td>\n",
              "      <td>77.572205</td>\n",
              "      <td>11.646852</td>\n",
              "      <td>75.033333</td>\n",
              "      <td>0.155222</td>\n",
              "    </tr>\n",
              "    <tr>\n",
              "      <th>1938</th>\n",
              "      <td>12.933600</td>\n",
              "      <td>77.689072</td>\n",
              "      <td>12.922886</td>\n",
              "      <td>77.670105</td>\n",
              "      <td>2.375852</td>\n",
              "      <td>62.133333</td>\n",
              "      <td>0.038238</td>\n",
              "    </tr>\n",
              "    <tr>\n",
              "      <th>1939</th>\n",
              "      <td>13.006970</td>\n",
              "      <td>77.662727</td>\n",
              "      <td>12.916601</td>\n",
              "      <td>77.604019</td>\n",
              "      <td>11.893066</td>\n",
              "      <td>469.550000</td>\n",
              "      <td>0.025329</td>\n",
              "    </tr>\n",
              "    <tr>\n",
              "      <th>1940</th>\n",
              "      <td>12.938225</td>\n",
              "      <td>77.492752</td>\n",
              "      <td>13.084155</td>\n",
              "      <td>77.549728</td>\n",
              "      <td>17.361114</td>\n",
              "      <td>523.000000</td>\n",
              "      <td>0.033195</td>\n",
              "    </tr>\n",
              "    <tr>\n",
              "      <th>1941</th>\n",
              "      <td>13.094428</td>\n",
              "      <td>77.582733</td>\n",
              "      <td>12.921704</td>\n",
              "      <td>77.484154</td>\n",
              "      <td>21.975854</td>\n",
              "      <td>134.150000</td>\n",
              "      <td>0.163816</td>\n",
              "    </tr>\n",
              "  </tbody>\n",
              "</table>\n",
              "<p>1942 rows × 7 columns</p>\n",
              "</div>\n",
              "      <button class=\"colab-df-convert\" onclick=\"convertToInteractive('df-2d5e1759-b10c-4a17-aa38-6e8c3f073b25')\"\n",
              "              title=\"Convert this dataframe to an interactive table.\"\n",
              "              style=\"display:none;\">\n",
              "        \n",
              "  <svg xmlns=\"http://www.w3.org/2000/svg\" height=\"24px\"viewBox=\"0 0 24 24\"\n",
              "       width=\"24px\">\n",
              "    <path d=\"M0 0h24v24H0V0z\" fill=\"none\"/>\n",
              "    <path d=\"M18.56 5.44l.94 2.06.94-2.06 2.06-.94-2.06-.94-.94-2.06-.94 2.06-2.06.94zm-11 1L8.5 8.5l.94-2.06 2.06-.94-2.06-.94L8.5 2.5l-.94 2.06-2.06.94zm10 10l.94 2.06.94-2.06 2.06-.94-2.06-.94-.94-2.06-.94 2.06-2.06.94z\"/><path d=\"M17.41 7.96l-1.37-1.37c-.4-.4-.92-.59-1.43-.59-.52 0-1.04.2-1.43.59L10.3 9.45l-7.72 7.72c-.78.78-.78 2.05 0 2.83L4 21.41c.39.39.9.59 1.41.59.51 0 1.02-.2 1.41-.59l7.78-7.78 2.81-2.81c.8-.78.8-2.07 0-2.86zM5.41 20L4 18.59l7.72-7.72 1.47 1.35L5.41 20z\"/>\n",
              "  </svg>\n",
              "      </button>\n",
              "      \n",
              "  <style>\n",
              "    .colab-df-container {\n",
              "      display:flex;\n",
              "      flex-wrap:wrap;\n",
              "      gap: 12px;\n",
              "    }\n",
              "\n",
              "    .colab-df-convert {\n",
              "      background-color: #E8F0FE;\n",
              "      border: none;\n",
              "      border-radius: 50%;\n",
              "      cursor: pointer;\n",
              "      display: none;\n",
              "      fill: #1967D2;\n",
              "      height: 32px;\n",
              "      padding: 0 0 0 0;\n",
              "      width: 32px;\n",
              "    }\n",
              "\n",
              "    .colab-df-convert:hover {\n",
              "      background-color: #E2EBFA;\n",
              "      box-shadow: 0px 1px 2px rgba(60, 64, 67, 0.3), 0px 1px 3px 1px rgba(60, 64, 67, 0.15);\n",
              "      fill: #174EA6;\n",
              "    }\n",
              "\n",
              "    [theme=dark] .colab-df-convert {\n",
              "      background-color: #3B4455;\n",
              "      fill: #D2E3FC;\n",
              "    }\n",
              "\n",
              "    [theme=dark] .colab-df-convert:hover {\n",
              "      background-color: #434B5C;\n",
              "      box-shadow: 0px 1px 3px 1px rgba(0, 0, 0, 0.15);\n",
              "      filter: drop-shadow(0px 1px 2px rgba(0, 0, 0, 0.3));\n",
              "      fill: #FFFFFF;\n",
              "    }\n",
              "  </style>\n",
              "\n",
              "      <script>\n",
              "        const buttonEl =\n",
              "          document.querySelector('#df-2d5e1759-b10c-4a17-aa38-6e8c3f073b25 button.colab-df-convert');\n",
              "        buttonEl.style.display =\n",
              "          google.colab.kernel.accessAllowed ? 'block' : 'none';\n",
              "\n",
              "        async function convertToInteractive(key) {\n",
              "          const element = document.querySelector('#df-2d5e1759-b10c-4a17-aa38-6e8c3f073b25');\n",
              "          const dataTable =\n",
              "            await google.colab.kernel.invokeFunction('convertToInteractive',\n",
              "                                                     [key], {});\n",
              "          if (!dataTable) return;\n",
              "\n",
              "          const docLinkHtml = 'Like what you see? Visit the ' +\n",
              "            '<a target=\"_blank\" href=https://colab.research.google.com/notebooks/data_table.ipynb>data table notebook</a>'\n",
              "            + ' to learn more about interactive tables.';\n",
              "          element.innerHTML = '';\n",
              "          dataTable['output_type'] = 'display_data';\n",
              "          await google.colab.output.renderOutput(dataTable, element);\n",
              "          const docLink = document.createElement('div');\n",
              "          docLink.innerHTML = docLinkHtml;\n",
              "          element.appendChild(docLink);\n",
              "        }\n",
              "      </script>\n",
              "    </div>\n",
              "  </div>\n",
              "  "
            ]
          },
          "metadata": {},
          "execution_count": 83
        }
      ]
    },
    {
      "cell_type": "code",
      "source": [
        "#test_df=test_df.sort_values(by=[\"speed\"],axis=0,ascending=False,na_position=\"last\",ignore_index=True)"
      ],
      "metadata": {
        "id": "D16TyVdTII-7"
      },
      "execution_count": null,
      "outputs": []
    },
    {
      "cell_type": "code",
      "source": [
        "test_df=test_df[test_df[\"speed\"]>0.02] #0.02km/min =1.2km/hr"
      ],
      "metadata": {
        "id": "3SULhNYgL5A-"
      },
      "execution_count": null,
      "outputs": []
    },
    {
      "cell_type": "code",
      "source": [
        "test_df.reset_index()"
      ],
      "metadata": {
        "id": "CZBkgyfhMCVU",
        "colab": {
          "base_uri": "https://localhost:8080/",
          "height": 423
        },
        "outputId": "45cea6fc-ae8a-41d5-9805-f38ae8830f8d"
      },
      "execution_count": null,
      "outputs": [
        {
          "output_type": "execute_result",
          "data": {
            "text/plain": [
              "      index  Source_Lat  Source_Long   Dest_Lat  Dest_Long   Distance  \\\n",
              "0         0   13.003543    77.571342  12.977712  77.573898   2.885596   \n",
              "1         3   12.921819    77.660797  12.916267  77.635857   2.772608   \n",
              "2         4   13.002195    77.683495  12.967098  77.702232   4.399092   \n",
              "3         5   12.924267    77.648163  13.002404  77.683609   9.499577   \n",
              "4         6   13.003893    77.549217  12.919664  77.476944  12.208735   \n",
              "...     ...         ...          ...        ...        ...        ...   \n",
              "1083   1937   13.081468    77.559685  12.977438  77.572205  11.646852   \n",
              "1084   1938   12.933600    77.689072  12.922886  77.670105   2.375852   \n",
              "1085   1939   13.006970    77.662727  12.916601  77.604019  11.893066   \n",
              "1086   1940   12.938225    77.492752  13.084155  77.549728  17.361114   \n",
              "1087   1941   13.094428    77.582733  12.921704  77.484154  21.975854   \n",
              "\n",
              "        Duration     speed  \n",
              "0     127.233333  0.022680  \n",
              "1       6.650000  0.416933  \n",
              "2     150.566667  0.029217  \n",
              "3     136.966667  0.069357  \n",
              "4      60.750000  0.200967  \n",
              "...          ...       ...  \n",
              "1083   75.033333  0.155222  \n",
              "1084   62.133333  0.038238  \n",
              "1085  469.550000  0.025329  \n",
              "1086  523.000000  0.033195  \n",
              "1087  134.150000  0.163816  \n",
              "\n",
              "[1088 rows x 8 columns]"
            ],
            "text/html": [
              "\n",
              "  <div id=\"df-ccb1925d-42d3-43d7-a498-0a16f8e7794e\">\n",
              "    <div class=\"colab-df-container\">\n",
              "      <div>\n",
              "<style scoped>\n",
              "    .dataframe tbody tr th:only-of-type {\n",
              "        vertical-align: middle;\n",
              "    }\n",
              "\n",
              "    .dataframe tbody tr th {\n",
              "        vertical-align: top;\n",
              "    }\n",
              "\n",
              "    .dataframe thead th {\n",
              "        text-align: right;\n",
              "    }\n",
              "</style>\n",
              "<table border=\"1\" class=\"dataframe\">\n",
              "  <thead>\n",
              "    <tr style=\"text-align: right;\">\n",
              "      <th></th>\n",
              "      <th>index</th>\n",
              "      <th>Source_Lat</th>\n",
              "      <th>Source_Long</th>\n",
              "      <th>Dest_Lat</th>\n",
              "      <th>Dest_Long</th>\n",
              "      <th>Distance</th>\n",
              "      <th>Duration</th>\n",
              "      <th>speed</th>\n",
              "    </tr>\n",
              "  </thead>\n",
              "  <tbody>\n",
              "    <tr>\n",
              "      <th>0</th>\n",
              "      <td>0</td>\n",
              "      <td>13.003543</td>\n",
              "      <td>77.571342</td>\n",
              "      <td>12.977712</td>\n",
              "      <td>77.573898</td>\n",
              "      <td>2.885596</td>\n",
              "      <td>127.233333</td>\n",
              "      <td>0.022680</td>\n",
              "    </tr>\n",
              "    <tr>\n",
              "      <th>1</th>\n",
              "      <td>3</td>\n",
              "      <td>12.921819</td>\n",
              "      <td>77.660797</td>\n",
              "      <td>12.916267</td>\n",
              "      <td>77.635857</td>\n",
              "      <td>2.772608</td>\n",
              "      <td>6.650000</td>\n",
              "      <td>0.416933</td>\n",
              "    </tr>\n",
              "    <tr>\n",
              "      <th>2</th>\n",
              "      <td>4</td>\n",
              "      <td>13.002195</td>\n",
              "      <td>77.683495</td>\n",
              "      <td>12.967098</td>\n",
              "      <td>77.702232</td>\n",
              "      <td>4.399092</td>\n",
              "      <td>150.566667</td>\n",
              "      <td>0.029217</td>\n",
              "    </tr>\n",
              "    <tr>\n",
              "      <th>3</th>\n",
              "      <td>5</td>\n",
              "      <td>12.924267</td>\n",
              "      <td>77.648163</td>\n",
              "      <td>13.002404</td>\n",
              "      <td>77.683609</td>\n",
              "      <td>9.499577</td>\n",
              "      <td>136.966667</td>\n",
              "      <td>0.069357</td>\n",
              "    </tr>\n",
              "    <tr>\n",
              "      <th>4</th>\n",
              "      <td>6</td>\n",
              "      <td>13.003893</td>\n",
              "      <td>77.549217</td>\n",
              "      <td>12.919664</td>\n",
              "      <td>77.476944</td>\n",
              "      <td>12.208735</td>\n",
              "      <td>60.750000</td>\n",
              "      <td>0.200967</td>\n",
              "    </tr>\n",
              "    <tr>\n",
              "      <th>...</th>\n",
              "      <td>...</td>\n",
              "      <td>...</td>\n",
              "      <td>...</td>\n",
              "      <td>...</td>\n",
              "      <td>...</td>\n",
              "      <td>...</td>\n",
              "      <td>...</td>\n",
              "      <td>...</td>\n",
              "    </tr>\n",
              "    <tr>\n",
              "      <th>1083</th>\n",
              "      <td>1937</td>\n",
              "      <td>13.081468</td>\n",
              "      <td>77.559685</td>\n",
              "      <td>12.977438</td>\n",
              "      <td>77.572205</td>\n",
              "      <td>11.646852</td>\n",
              "      <td>75.033333</td>\n",
              "      <td>0.155222</td>\n",
              "    </tr>\n",
              "    <tr>\n",
              "      <th>1084</th>\n",
              "      <td>1938</td>\n",
              "      <td>12.933600</td>\n",
              "      <td>77.689072</td>\n",
              "      <td>12.922886</td>\n",
              "      <td>77.670105</td>\n",
              "      <td>2.375852</td>\n",
              "      <td>62.133333</td>\n",
              "      <td>0.038238</td>\n",
              "    </tr>\n",
              "    <tr>\n",
              "      <th>1085</th>\n",
              "      <td>1939</td>\n",
              "      <td>13.006970</td>\n",
              "      <td>77.662727</td>\n",
              "      <td>12.916601</td>\n",
              "      <td>77.604019</td>\n",
              "      <td>11.893066</td>\n",
              "      <td>469.550000</td>\n",
              "      <td>0.025329</td>\n",
              "    </tr>\n",
              "    <tr>\n",
              "      <th>1086</th>\n",
              "      <td>1940</td>\n",
              "      <td>12.938225</td>\n",
              "      <td>77.492752</td>\n",
              "      <td>13.084155</td>\n",
              "      <td>77.549728</td>\n",
              "      <td>17.361114</td>\n",
              "      <td>523.000000</td>\n",
              "      <td>0.033195</td>\n",
              "    </tr>\n",
              "    <tr>\n",
              "      <th>1087</th>\n",
              "      <td>1941</td>\n",
              "      <td>13.094428</td>\n",
              "      <td>77.582733</td>\n",
              "      <td>12.921704</td>\n",
              "      <td>77.484154</td>\n",
              "      <td>21.975854</td>\n",
              "      <td>134.150000</td>\n",
              "      <td>0.163816</td>\n",
              "    </tr>\n",
              "  </tbody>\n",
              "</table>\n",
              "<p>1088 rows × 8 columns</p>\n",
              "</div>\n",
              "      <button class=\"colab-df-convert\" onclick=\"convertToInteractive('df-ccb1925d-42d3-43d7-a498-0a16f8e7794e')\"\n",
              "              title=\"Convert this dataframe to an interactive table.\"\n",
              "              style=\"display:none;\">\n",
              "        \n",
              "  <svg xmlns=\"http://www.w3.org/2000/svg\" height=\"24px\"viewBox=\"0 0 24 24\"\n",
              "       width=\"24px\">\n",
              "    <path d=\"M0 0h24v24H0V0z\" fill=\"none\"/>\n",
              "    <path d=\"M18.56 5.44l.94 2.06.94-2.06 2.06-.94-2.06-.94-.94-2.06-.94 2.06-2.06.94zm-11 1L8.5 8.5l.94-2.06 2.06-.94-2.06-.94L8.5 2.5l-.94 2.06-2.06.94zm10 10l.94 2.06.94-2.06 2.06-.94-2.06-.94-.94-2.06-.94 2.06-2.06.94z\"/><path d=\"M17.41 7.96l-1.37-1.37c-.4-.4-.92-.59-1.43-.59-.52 0-1.04.2-1.43.59L10.3 9.45l-7.72 7.72c-.78.78-.78 2.05 0 2.83L4 21.41c.39.39.9.59 1.41.59.51 0 1.02-.2 1.41-.59l7.78-7.78 2.81-2.81c.8-.78.8-2.07 0-2.86zM5.41 20L4 18.59l7.72-7.72 1.47 1.35L5.41 20z\"/>\n",
              "  </svg>\n",
              "      </button>\n",
              "      \n",
              "  <style>\n",
              "    .colab-df-container {\n",
              "      display:flex;\n",
              "      flex-wrap:wrap;\n",
              "      gap: 12px;\n",
              "    }\n",
              "\n",
              "    .colab-df-convert {\n",
              "      background-color: #E8F0FE;\n",
              "      border: none;\n",
              "      border-radius: 50%;\n",
              "      cursor: pointer;\n",
              "      display: none;\n",
              "      fill: #1967D2;\n",
              "      height: 32px;\n",
              "      padding: 0 0 0 0;\n",
              "      width: 32px;\n",
              "    }\n",
              "\n",
              "    .colab-df-convert:hover {\n",
              "      background-color: #E2EBFA;\n",
              "      box-shadow: 0px 1px 2px rgba(60, 64, 67, 0.3), 0px 1px 3px 1px rgba(60, 64, 67, 0.15);\n",
              "      fill: #174EA6;\n",
              "    }\n",
              "\n",
              "    [theme=dark] .colab-df-convert {\n",
              "      background-color: #3B4455;\n",
              "      fill: #D2E3FC;\n",
              "    }\n",
              "\n",
              "    [theme=dark] .colab-df-convert:hover {\n",
              "      background-color: #434B5C;\n",
              "      box-shadow: 0px 1px 3px 1px rgba(0, 0, 0, 0.15);\n",
              "      filter: drop-shadow(0px 1px 2px rgba(0, 0, 0, 0.3));\n",
              "      fill: #FFFFFF;\n",
              "    }\n",
              "  </style>\n",
              "\n",
              "      <script>\n",
              "        const buttonEl =\n",
              "          document.querySelector('#df-ccb1925d-42d3-43d7-a498-0a16f8e7794e button.colab-df-convert');\n",
              "        buttonEl.style.display =\n",
              "          google.colab.kernel.accessAllowed ? 'block' : 'none';\n",
              "\n",
              "        async function convertToInteractive(key) {\n",
              "          const element = document.querySelector('#df-ccb1925d-42d3-43d7-a498-0a16f8e7794e');\n",
              "          const dataTable =\n",
              "            await google.colab.kernel.invokeFunction('convertToInteractive',\n",
              "                                                     [key], {});\n",
              "          if (!dataTable) return;\n",
              "\n",
              "          const docLinkHtml = 'Like what you see? Visit the ' +\n",
              "            '<a target=\"_blank\" href=https://colab.research.google.com/notebooks/data_table.ipynb>data table notebook</a>'\n",
              "            + ' to learn more about interactive tables.';\n",
              "          element.innerHTML = '';\n",
              "          dataTable['output_type'] = 'display_data';\n",
              "          await google.colab.output.renderOutput(dataTable, element);\n",
              "          const docLink = document.createElement('div');\n",
              "          docLink.innerHTML = docLinkHtml;\n",
              "          element.appendChild(docLink);\n",
              "        }\n",
              "      </script>\n",
              "    </div>\n",
              "  </div>\n",
              "  "
            ]
          },
          "metadata": {},
          "execution_count": 86
        }
      ]
    },
    {
      "cell_type": "code",
      "source": [
        "bus_df= pd.read_parquet('/content/drive/MyDrive/Data/BMTC.parquet.gzip', engine='pyarrow')"
      ],
      "metadata": {
        "id": "ONXheRtqMTxm"
      },
      "execution_count": null,
      "outputs": []
    },
    {
      "cell_type": "code",
      "source": [
        "g=bus_df.groupby('BusID')"
      ],
      "metadata": {
        "id": "8o4F5U_5X5NZ"
      },
      "execution_count": null,
      "outputs": []
    },
    {
      "cell_type": "code",
      "source": [
        "import random \n",
        "# random.sample(range(1, 50), 7)"
      ],
      "metadata": {
        "id": "qmYT4CX-ZyeG"
      },
      "execution_count": null,
      "outputs": []
    },
    {
      "cell_type": "code",
      "source": [],
      "metadata": {
        "id": "-nqlw1Vxar76"
      },
      "execution_count": null,
      "outputs": []
    },
    {
      "cell_type": "code",
      "source": [
        "random_df=g.nth([100,600])"
      ],
      "metadata": {
        "id": "wfyLVKdAYBKv"
      },
      "execution_count": null,
      "outputs": []
    },
    {
      "cell_type": "markdown",
      "source": [
        "# AutoML"
      ],
      "metadata": {
        "id": "F9fe63zYZktT"
      }
    },
    {
      "cell_type": "code",
      "source": [
        "#!apt install -y build-essential swig curl"
      ],
      "metadata": {
        "id": "9kBXiS9BadRm"
      },
      "execution_count": null,
      "outputs": []
    },
    {
      "cell_type": "code",
      "source": [
        "# !pip install auto-sklearn"
      ],
      "metadata": {
        "id": "JwqK6AXU2DHN"
      },
      "execution_count": null,
      "outputs": []
    },
    {
      "cell_type": "code",
      "source": [
        "# Install packages\n",
        "# !curl https://raw.githubusercontent.com/automl/auto-sklearn/master/requirements.txt | xargs -n 1 -L 1 pip install\n",
        "# !pip install auto-sklearn"
      ],
      "metadata": {
        "id": "6hgd3gZTF9e5"
      },
      "execution_count": null,
      "outputs": []
    },
    {
      "cell_type": "code",
      "source": [
        "# from autosklearn.regression import AutoSklearnRegressor\n",
        "# # Create the AutoSklearnRegessor\n",
        "# sklearn = AutoSklearnRegressor(time_left_for_this_task=360,per_run_time_limit=30,memory_limit=5000,n_jobs=-1)\n",
        "# # Fit the training data\n",
        "# sklearn.fit(Xtrain, ytrain)\n",
        "# # Sprint Statistics\n",
        "# print(sklearn.sprint_statistics())\n",
        "# # Predict the validation data\n",
        "# pred_sklearn = sklearn.predict(X_test)\n",
        "# # Compute the RMSE\n",
        "# rmse_sklearn=MSE(y_test, pred_sklearn)**0.5\n",
        "# print('RMSE: ' + str(rmse_sklearn))"
      ],
      "metadata": {
        "id": "aw8BukKZ3jZ3"
      },
      "execution_count": null,
      "outputs": []
    },
    {
      "cell_type": "code",
      "source": [
        "# sklearn.get_models_with_weights()"
      ],
      "metadata": {
        "id": "zi6Oc-z097qN"
      },
      "execution_count": null,
      "outputs": []
    },
    {
      "cell_type": "code",
      "source": [
        "# sklearn.leaderboard()"
      ],
      "metadata": {
        "id": "V4LpP7Dw-IJL"
      },
      "execution_count": null,
      "outputs": []
    },
    {
      "cell_type": "code",
      "source": [
        "# from autosklearn.regression import AutoSklearnRegressor\n",
        "# # Create the AutoSklearnRegessor\n",
        "# sklearn = AutoSklearnRegressor(time_left_for_this_task=360,per_run_time_limit=45,memory_limit=5500,n_jobs=-1)\n",
        "# # Fit the training data\n",
        "# sklearn.fit(Xtrain, ytrain)\n",
        "# # Sprint Statistics\n",
        "# print(sklearn.sprint_statistics())\n",
        "# # Predict the validation data\n",
        "# pred_sklearn = sklearn.predict(X_test)\n",
        "# # Compute the RMSE\n",
        "# rmse_sklearn=MSE(y_test, pred_sklearn)**0.5\n",
        "# print('RMSE: ' + str(rmse_sklearn))"
      ],
      "metadata": {
        "id": "kaOkbJPuqD-O"
      },
      "execution_count": null,
      "outputs": []
    },
    {
      "cell_type": "code",
      "source": [
        "# sklearn.leaderboard()"
      ],
      "metadata": {
        "id": "g9Y-YZVW-mLp"
      },
      "execution_count": null,
      "outputs": []
    },
    {
      "cell_type": "code",
      "source": [
        "# from autosklearn.regression import AutoSklearnRegressor\n",
        "# # Create the AutoSklearnRegessor\n",
        "# sklearn = AutoSklearnRegressor(time_left_for_this_task=36000,per_run_time_limit=3600,memory_limit=5000,n_jobs=-1)\n",
        "# # Fit the training data\n",
        "# sklearn.fit(Xtrain, ytrain)\n",
        "# # Sprint Statistics\n",
        "# print(sklearn.sprint_statistics())\n",
        "# # Predict the validation data\n",
        "# pred_sklearn = sklearn.predict(X_test)\n",
        "# # Compute the RMSE\n",
        "# rmse_sklearn=MSE(y_test, pred_sklearn)**0.5\n",
        "# print('RMSE: ' + str(rmse_sklearn))"
      ],
      "metadata": {
        "id": "XcKyrGSOv7jy"
      },
      "execution_count": null,
      "outputs": []
    },
    {
      "cell_type": "code",
      "source": [
        "# import matplotlib.pyplot as plt \n",
        "# # Scatter plot true and predicted values\n",
        "# plt.scatter(pred_sklearn, y_val, alpha=0.2)\n",
        "# plt.xlabel('predicted')\n",
        "# plt.ylabel('true value')"
      ],
      "metadata": {
        "id": "SCCE6N6xlqKz"
      },
      "execution_count": null,
      "outputs": []
    },
    {
      "cell_type": "code",
      "source": [],
      "metadata": {
        "id": "BBT32z3pvqX6"
      },
      "execution_count": null,
      "outputs": []
    }
  ]
}